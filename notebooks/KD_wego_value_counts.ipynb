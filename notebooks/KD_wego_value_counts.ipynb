{
 "cells": [
  {
   "cell_type": "code",
   "execution_count": 1,
   "id": "fa60ccda",
   "metadata": {},
   "outputs": [],
   "source": [
    "import pandas as pd \n",
    "import numpy as np\n",
    "import matplotlib.pyplot as plt\n",
    "import seaborn as sns\n",
    "from scipy.stats import pearsonr\n",
    "from scipy.stats import norm\n",
    "import statsmodels.formula.api as sm\n",
    "import statsmodels.api as stats\n",
    "from scipy.stats import binom_test\n",
    "from scipy.stats import binom"
   ]
  },
  {
   "cell_type": "code",
   "execution_count": 2,
   "id": "2cefbc42",
   "metadata": {},
   "outputs": [],
   "source": [
    "excel_df = pd.read_excel('../data/Headway Data, 8-1-2023 to 9-30-2023.xlsx')"
   ]
  },
  {
   "cell_type": "code",
   "execution_count": 3,
   "id": "991b31ed",
   "metadata": {},
   "outputs": [],
   "source": [
    "excel_df.to_csv (\"headway.csv\",  \n",
    "                  index = None, \n",
    "                  header=True)"
   ]
  },
  {
   "cell_type": "code",
   "execution_count": 12,
   "id": "e8f57240",
   "metadata": {
    "scrolled": false
   },
   "outputs": [],
   "source": [
    "wego = pd.DataFrame(pd.read_csv(\"../data/headway.csv\"))\n"
   ]
  },
  {
   "cell_type": "code",
   "execution_count": 8,
   "id": "1af76dfc",
   "metadata": {},
   "outputs": [],
   "source": [
    "bna_weather = pd.read_csv('../data/bna_weather.csv')"
   ]
  },
  {
   "cell_type": "markdown",
   "id": "54f60a5e",
   "metadata": {},
   "source": [
    "      "
   ]
  },
  {
   "cell_type": "markdown",
   "id": "5a269b57",
   "metadata": {},
   "source": [
    "**TASK: Value count of time_point_abbrev & route_number**"
   ]
  },
  {
   "cell_type": "code",
   "execution_count": 14,
   "id": "8bb310ab",
   "metadata": {},
   "outputs": [
    {
     "data": {
      "text/plain": [
       "55    61944\n",
       "56    60020\n",
       "52    51819\n",
       "3     47162\n",
       "50    43291\n",
       "23    42108\n",
       "22    25958\n",
       "7     18026\n",
       "Name: ROUTE_ABBR, dtype: int64"
      ]
     },
     "execution_count": 14,
     "metadata": {},
     "output_type": "execute_result"
    }
   ],
   "source": [
    "#The amount stops along the route recorded.\n",
    "wego['ROUTE_ABBR'].value_counts()"
   ]
  },
  {
   "cell_type": "code",
   "execution_count": 17,
   "id": "40023200",
   "metadata": {},
   "outputs": [
    {
     "data": {
      "text/plain": [
       "GXRVRGAT    14954\n",
       "DWMRT       14085\n",
       "WHBG        11602\n",
       "MXTHOMP     10384\n",
       "MXWHARF     10382\n",
       "            ...  \n",
       "HEAD           73\n",
       "MCC4_13        72\n",
       "MCC5_12        43\n",
       "MCC5_7         36\n",
       "CRES           36\n",
       "Name: TIME_POINT_ABBR, Length: 61, dtype: int64"
      ]
     },
     "execution_count": 17,
     "metadata": {},
     "output_type": "execute_result"
    }
   ],
   "source": [
    "#The amount of stops recorded at the specific bus stop.\n",
    "wego['TIME_POINT_ABBR'].value_counts()"
   ]
  },
  {
   "cell_type": "code",
   "execution_count": null,
   "id": "61ec9977",
   "metadata": {},
   "outputs": [],
   "source": []
  }
 ],
 "metadata": {
  "kernelspec": {
   "display_name": "Python 3 (ipykernel)",
   "language": "python",
   "name": "python3"
  },
  "language_info": {
   "codemirror_mode": {
    "name": "ipython",
    "version": 3
   },
   "file_extension": ".py",
   "mimetype": "text/x-python",
   "name": "python",
   "nbconvert_exporter": "python",
   "pygments_lexer": "ipython3",
   "version": "3.10.9"
  }
 },
 "nbformat": 4,
 "nbformat_minor": 5
}
