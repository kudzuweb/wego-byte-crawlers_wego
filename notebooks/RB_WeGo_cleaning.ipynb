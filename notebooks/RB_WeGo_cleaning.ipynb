{
 "cells": [
  {
   "cell_type": "markdown",
   "id": "1aa15919",
   "metadata": {},
   "source": [
    "# WeGo Public Transit\n",
    "[WeGo Public Transit](https://www.wegotransit.com/) is a public transit system serving the Greater Nashville and Davidson County area. WeGo provides local and regional bus routes, the WeGo Star train service connecting Lebanon to downtown Nashville, along with several other transit services.\n",
    "\n",
    "In this project, you'll be analyzing the bus spacing to look for patterns and try to identify correlations to controllable or external factors. Specifically, you'll be using a dataset containing information on the headway, or amount of time between vehicle arrivals at a stop. This dataset contains a column HDWY_DEV, which shows the headway deviation. This variable will be negative when bunching has occurred (shorter headway than scheduled) and will be positive for gapping (longer headway than scheduled). Note that you can calculate headway deviation percentage as HDWY_DEV/SCHEDULED_HDWY."
   ]
  },
  {
   "cell_type": "markdown",
   "id": "3b714c83",
   "metadata": {},
   "source": [
    "Goals of this project:\n",
    "1. How much impact does being late or too spaced out at the first stop have downstream?"
   ]
  },
  {
   "cell_type": "markdown",
   "id": "c36dad59",
   "metadata": {},
   "source": [
    "2. What is the impact of the layover at the start of the trip (the difference between the first top arrival and departure time)? Does more layover lead to more stable headways (lower values for % headway deviation)?"
   ]
  },
  {
   "cell_type": "markdown",
   "id": "7ede08ff",
   "metadata": {},
   "source": [
    "3. How closely does lateness (ADHERENCE) correlate to headway?"
   ]
  },
  {
   "cell_type": "markdown",
   "id": "cb8e8429",
   "metadata": {},
   "source": [
    "4. What is the relationship between distance or time travelled since the start of a given trip and the headway deviation? Does headway become less stable the further along the route the bus has travelled?"
   ]
  },
  {
   "cell_type": "markdown",
   "id": "efa95de4",
   "metadata": {},
   "source": [
    "5. How much of a factor does the driver have on headway and on-time performance? The driver is indicated by the OPERATOR variable."
   ]
  },
  {
   "cell_type": "markdown",
   "id": "dcfc4e16",
   "metadata": {},
   "source": [
    "6. How does direction of travel, route, or location affect the headway and on-time performance?"
   ]
  },
  {
   "cell_type": "markdown",
   "id": "b9fe86af",
   "metadata": {},
   "source": [
    "7. How does time of day or day of week affect headway and on-time performance? Can you detect an impact of school schedule on headway deviation (for certain routes and at certain times of day)?"
   ]
  },
  {
   "cell_type": "markdown",
   "id": "d9e853a3",
   "metadata": {},
   "source": [
    "8. Does weather have any effect on headway or on-time performance? To help answer this question, the file bna_weather.csv contains historical weather data recorded at Nashville International Airport. "
   ]
  }
 ],
 "metadata": {
  "kernelspec": {
   "display_name": "Python 3 (ipykernel)",
   "language": "python",
   "name": "python3"
  },
  "language_info": {
   "codemirror_mode": {
    "name": "ipython",
    "version": 3
   },
   "file_extension": ".py",
   "mimetype": "text/x-python",
   "name": "python",
   "nbconvert_exporter": "python",
   "pygments_lexer": "ipython3",
   "version": "3.10.12"
  }
 },
 "nbformat": 4,
 "nbformat_minor": 5
}
