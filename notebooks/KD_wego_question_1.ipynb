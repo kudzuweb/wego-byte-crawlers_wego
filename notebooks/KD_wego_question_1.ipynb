{
 "cells": [
  {
   "cell_type": "code",
   "execution_count": 2,
   "id": "23621c27",
   "metadata": {},
   "outputs": [],
   "source": [
    "import pandas as pd\n",
    "pd.set_option(\"display.max_columns\", 100)\n",
    "import numpy as np\n",
    "import statsmodels.api as sm\n",
    "import statsmodels.formula.api as smf\n",
    "import matplotlib.pyplot as plt\n",
    "import seaborn as sns"
   ]
  },
  {
   "cell_type": "code",
   "execution_count": 3,
   "id": "bc42410f",
   "metadata": {},
   "outputs": [],
   "source": [
    "wego = pd.read_csv('../data/headway_data_clean.csv')"
   ]
  },
  {
   "cell_type": "code",
   "execution_count": 4,
   "id": "59ea4f7b",
   "metadata": {},
   "outputs": [],
   "source": [
    "# convert times to datetime64 objects, check dtype to confirm\n",
    "wego['SCHEDULED_TIME'] = pd.to_datetime(wego['SCHEDULED_TIME'], format = '%Y-%m-%d %H:%M:%S')\n",
    "wego['ACTUAL_ARRIVAL_TIME'] = pd.to_datetime(wego['ACTUAL_ARRIVAL_TIME'], format = '%Y-%m-%d %H:%M:%S')\n",
    "wego['ACTUAL_DEPARTURE_TIME'] = pd.to_datetime(wego['ACTUAL_DEPARTURE_TIME'], format = '%Y-%m-%d %H:%M:%S')\n",
    "wego['DATE'] = pd.to_datetime(wego['DATE'], format = \"%Y/%m/%d\")\n"
   ]
  },
  {
   "cell_type": "code",
   "execution_count": 5,
   "id": "9c0256e7",
   "metadata": {
    "scrolled": true
   },
   "outputs": [],
   "source": [
    "#Create a column that gives each day of the week its on variable\n",
    "wego['DAYS_OF_THE_WEEK'] = wego['DATE'].dt.weekday\n"
   ]
  },
  {
   "cell_type": "markdown",
   "id": "6018236a",
   "metadata": {},
   "source": [
    "**Question1: How much impact does being late or too spaced out at the first stop have downstream**\n",
    "\n",
    "\n",
    "\n",
    "*Does being late to start a trip or too spaced out between buses have an affect on the remainder of the trip?*"
   ]
  },
  {
   "cell_type": "code",
   "execution_count": 6,
   "id": "f2ba42a0",
   "metadata": {},
   "outputs": [],
   "source": [
    "#dropping all nan values in the adherence column\n",
    "wego = wego.dropna(subset = 'ADHERENCE')"
   ]
  },
  {
   "cell_type": "code",
   "execution_count": null,
   "id": "fba5dc31",
   "metadata": {},
   "outputs": [],
   "source": [
    "route_3_to_downtown = wego.loc[\n",
    "    (wego['ROUTE_ABBR'] == 3) & (wego['ROUTE_DIRECTION_NAME']== 'TO DOWNTOWN')\n",
    "]"
   ]
  },
  {
   "cell_type": "code",
   "execution_count": null,
   "id": "38277365",
   "metadata": {},
   "outputs": [],
   "source": [
    "route_3_to_downtown = route_3_to_downtown.copy()"
   ]
  },
  {
   "cell_type": "code",
   "execution_count": null,
   "id": "6a0bcba2",
   "metadata": {},
   "outputs": [],
   "source": [
    "#changing the dtype to string so that i can concat with the \"CALENDAR ID\" column\n",
    "#changing the dtype to string so that i can concat with the \"ROUTE ID\" column\n",
    "route_3_to_downtown['TRIP_ID'] = route_3_to_downtown['TRIP_ID'].astype(str)\n",
    "route_3_to_downtown['CALENDAR_ID'] = route_3_to_downtown['CALENDAR_ID'].astype(str)"
   ]
  },
  {
   "cell_type": "code",
   "execution_count": null,
   "id": "6a7931e4",
   "metadata": {},
   "outputs": [],
   "source": [
    "#creating a column that concats the two columns\n",
    "route_3_to_downtown['TRIP_IDS'] = route_3_to_downtown['TRIP_ID'] + route_3_to_downtown['CALENDAR_ID']"
   ]
  },
  {
   "cell_type": "code",
   "execution_count": null,
   "id": "294176d0",
   "metadata": {},
   "outputs": [],
   "source": [
    "#allows for each stop to be numbered in their respective route IDs\n",
    "route_3_to_downtown['row_num'] = 1\n",
    "route_3_to_downtown['stops'] = route_3_to_downtown.groupby('TRIP_IDS')['row_num'].cumsum()"
   ]
  },
  {
   "cell_type": "code",
   "execution_count": null,
   "id": "c18b7bc9",
   "metadata": {},
   "outputs": [],
   "source": [
    "#creating a pivot table that will make the columns the stop #, the rows is each trip, and the values the adherence(amount of minutes late)\n",
    "route_3_to_downtown_pivot = route_3_to_downtown.pivot_table(values = 'ADHERENCE', index = 'TRIP_IDS', columns = 'stops')"
   ]
  },
  {
   "cell_type": "code",
   "execution_count": null,
   "id": "c5d8c372",
   "metadata": {},
   "outputs": [],
   "source": [
    "#.reset_index(drop = True)"
   ]
  },
  {
   "cell_type": "code",
   "execution_count": null,
   "id": "b21e4d06",
   "metadata": {},
   "outputs": [],
   "source": [
    "route_3_to_downtown_pivot"
   ]
  },
  {
   "cell_type": "code",
   "execution_count": null,
   "id": "4c6db962",
   "metadata": {},
   "outputs": [],
   "source": [
    "route_3_new = route_3_to_downtown_pivot.iloc[:, 0:5].dropna()"
   ]
  },
  {
   "cell_type": "code",
   "execution_count": null,
   "id": "db6cad4f",
   "metadata": {},
   "outputs": [],
   "source": [
    "route_3_new"
   ]
  },
  {
   "cell_type": "code",
   "execution_count": null,
   "id": "df40e573",
   "metadata": {},
   "outputs": [],
   "source": [
    "route_3_new[1].mean().round(2)"
   ]
  },
  {
   "cell_type": "code",
   "execution_count": null,
   "id": "62afa8f2",
   "metadata": {},
   "outputs": [],
   "source": [
    "route_3_new[5].mean().round(2)"
   ]
  },
  {
   "cell_type": "code",
   "execution_count": null,
   "id": "1714ecac",
   "metadata": {},
   "outputs": [],
   "source": [
    "route_3_new[1].corr(route_3_new[5])"
   ]
  },
  {
   "cell_type": "code",
   "execution_count": null,
   "id": "e47b5286",
   "metadata": {},
   "outputs": [],
   "source": [
    "route_3_to_downtown_pivot[1].corr(route_3_to_downtown_pivot[5])"
   ]
  },
  {
   "cell_type": "code",
   "execution_count": null,
   "id": "210a7667",
   "metadata": {},
   "outputs": [],
   "source": [
    "route_3_new = route_3_new.rename(columns = {1:\"one\", 2:'two', 3:'three', 4:'four', 5:\"five\"})"
   ]
  },
  {
   "cell_type": "code",
   "execution_count": null,
   "id": "50bf61e6",
   "metadata": {},
   "outputs": [],
   "source": [
    "lm = smf.ols(\"five ~ one\", data=route_3_new).fit()\n",
    "lm.summary()"
   ]
  },
  {
   "cell_type": "markdown",
   "id": "8514b833",
   "metadata": {},
   "source": [
    "**On route 3 to downtown As you move from the first bus stop to the last one, the lateness tends to increase by approximately  units or **"
   ]
  },
  {
   "cell_type": "code",
   "execution_count": null,
   "id": "db365526",
   "metadata": {},
   "outputs": [],
   "source": [
    "#one coeff*(adherence value)-(intercept)\n",
    "0.7530*(2)-0.5153"
   ]
  },
  {
   "cell_type": "markdown",
   "id": "636707b7",
   "metadata": {},
   "source": [
    "**where y=mx+b, with y being arrival time... In order to be within 1 minute of arrival adherence(y), the bus needs to leave within x minutes of adherence from stop 1.**\n",
    "\n",
    "**-1=(coeff one)x + intercept**"
   ]
  },
  {
   "cell_type": "code",
   "execution_count": null,
   "id": "08b07453",
   "metadata": {},
   "outputs": [],
   "source": [
    "#-1 = (0.7530)(X)+(-0.5153)"
   ]
  },
  {
   "cell_type": "code",
   "execution_count": null,
   "id": "32ffa83b",
   "metadata": {},
   "outputs": [],
   "source": [
    "(-0.5153-1)/(0.7530)"
   ]
  },
  {
   "cell_type": "markdown",
   "id": "16da58bd",
   "metadata": {},
   "source": [
    "    "
   ]
  },
  {
   "cell_type": "code",
   "execution_count": null,
   "id": "1785c982",
   "metadata": {},
   "outputs": [],
   "source": [
    "route_number = 3\n",
    "route_direction = 'FROM DOWNTOWN'\n",
    "\n",
    "route_df = wego.loc[\n",
    "    (wego['ROUTE_ABBR'] == route_number) & (wego['ROUTE_DIRECTION_NAME']== route_direction)\n",
    "]\n",
    "route_df = route_df.copy()"
   ]
  },
  {
   "cell_type": "code",
   "execution_count": null,
   "id": "3665cd74",
   "metadata": {},
   "outputs": [],
   "source": [
    "#changing the dtype to string so that i can concat with the \"CALENDAR ID\" column\n",
    "#changing the dtype to string so that i can concat with the \"ROUTE ID\" column\n",
    "\n",
    "route_df['TRIP_IDS'] = route_df['TRIP_ID'] + route_df['CALENDAR_ID']\n",
    "route_df['TRIP_ID'] = route_df['TRIP_ID'].astype(str)\n",
    "route_df['CALENDAR_ID'] = route_df['CALENDAR_ID'].astype(str)\n",
    "route_df['TRIP_IDS'] = route_df['TRIP_ID'] + route_df['CALENDAR_ID']"
   ]
  },
  {
   "cell_type": "code",
   "execution_count": null,
   "id": "32739c9f",
   "metadata": {},
   "outputs": [],
   "source": [
    "#allows for each stop to be numbered in their respective route IDs\n",
    "route_df['row_num'] = 1\n",
    "route_df['stops'] = route_df.groupby('TRIP_IDS')['row_num'].cumsum()"
   ]
  },
  {
   "cell_type": "code",
   "execution_count": null,
   "id": "fd3398c5",
   "metadata": {},
   "outputs": [],
   "source": [
    "#creating a pivot table that will make the columns the stop #, the rows is each trip, and the values the adherence(amount of minutes late)\n",
    "route_df_pivot = route_df.pivot_table(values = 'ADHERENCE', index = 'TRIP_IDS', columns = 'stops')"
   ]
  },
  {
   "cell_type": "code",
   "execution_count": null,
   "id": "486bca55",
   "metadata": {},
   "outputs": [],
   "source": [
    "route_df_new = route_df_pivot.iloc[:, 0:5].dropna()"
   ]
  },
  {
   "cell_type": "code",
   "execution_count": null,
   "id": "52198365",
   "metadata": {},
   "outputs": [],
   "source": [
    "route_df_new[5].mean().round(2)"
   ]
  },
  {
   "cell_type": "code",
   "execution_count": null,
   "id": "ab16bd4d",
   "metadata": {},
   "outputs": [],
   "source": [
    "route_df_new[1].mean().round(2)"
   ]
  },
  {
   "cell_type": "code",
   "execution_count": null,
   "id": "c125733d",
   "metadata": {},
   "outputs": [],
   "source": [
    "route_df_new[1].corr(route_df_new[5])"
   ]
  },
  {
   "cell_type": "code",
   "execution_count": null,
   "id": "e4cc4dc2",
   "metadata": {},
   "outputs": [],
   "source": [
    "route_df_new = route_df_new.rename(columns = {1:\"one\", 2:'two', 3:'three', 4:'four', 5:\"five\"})"
   ]
  },
  {
   "cell_type": "code",
   "execution_count": null,
   "id": "0c48f22b",
   "metadata": {},
   "outputs": [],
   "source": [
    "lm = smf.ols(\"five ~ one\", data=route_df_new).fit()\n",
    "lm.summary()"
   ]
  },
  {
   "cell_type": "code",
   "execution_count": null,
   "id": "e274621f",
   "metadata": {},
   "outputs": [],
   "source": [
    "#one coeff*(adherence value)-(intercept)\n",
    "0.8184*(-1)-(-3.2013)"
   ]
  },
  {
   "cell_type": "markdown",
   "id": "815dbde8",
   "metadata": {},
   "source": [
    "**On route 3 from downtown As you move from the first bus stop to the last one, the lateness tends to increase by approximately 0.8184 units or 49 seconds.**"
   ]
  },
  {
   "cell_type": "markdown",
   "id": "9b533705",
   "metadata": {},
   "source": [
    "***ROUTE 7 FROM DOWNTOWN***"
   ]
  },
  {
   "cell_type": "code",
   "execution_count": 7,
   "id": "23e4fc01",
   "metadata": {},
   "outputs": [
    {
     "data": {
      "text/plain": [
       "array([22, 23,  3,  7, 50, 52, 55, 56])"
      ]
     },
     "execution_count": 7,
     "metadata": {},
     "output_type": "execute_result"
    }
   ],
   "source": [
    "wego['ROUTE_ABBR'].unique()"
   ]
  },
  {
   "cell_type": "code",
   "execution_count": 8,
   "id": "3799da07",
   "metadata": {},
   "outputs": [],
   "source": [
    "route_number = 7\n",
    "route_direction = 'FROM DOWNTOWN'\n",
    "\n",
    "route_df = wego.loc[\n",
    "    (wego['ROUTE_ABBR'] == route_number) & (wego['ROUTE_DIRECTION_NAME']== route_direction)\n",
    "]\n",
    "route_df = route_df.copy()"
   ]
  },
  {
   "cell_type": "code",
   "execution_count": 9,
   "id": "2a95052a",
   "metadata": {},
   "outputs": [],
   "source": [
    "#changing the dtype to string so that i can concat with the \"CALENDAR ID\" column\n",
    "#changing the dtype to string so that i can concat with the \"ROUTE ID\" column\n",
    "\n",
    "route_df['TRIP_IDS'] = route_df['TRIP_ID'] + route_df['CALENDAR_ID']\n",
    "route_df['TRIP_ID'] = route_df['TRIP_ID'].astype(str)\n",
    "route_df['CALENDAR_ID'] = route_df['CALENDAR_ID'].astype(str)\n",
    "route_df['TRIP_IDS'] = route_df['TRIP_ID'] + route_df['CALENDAR_ID']"
   ]
  },
  {
   "cell_type": "code",
   "execution_count": 10,
   "id": "88e4d54d",
   "metadata": {},
   "outputs": [],
   "source": [
    "#allows for each stop to be numbered in their respective route IDs\n",
    "route_df['row_num'] = 1\n",
    "route_df['stops'] = route_df.groupby('TRIP_IDS')['row_num'].cumsum()"
   ]
  },
  {
   "cell_type": "code",
   "execution_count": null,
   "id": "199f6fc9",
   "metadata": {},
   "outputs": [],
   "source": [
    "#creating a pivot table that will make the columns the stop #, the rows is each trip, and the values the adherence(amount of minutes late)\n",
    "route_df_pivot = route_df.pivot_table(values = 'ADHERENCE', index = 'TRIP_IDS', columns = 'stops')"
   ]
  },
  {
   "cell_type": "code",
   "execution_count": 11,
   "id": "892df545",
   "metadata": {},
   "outputs": [
    {
     "data": {
      "text/html": [
       "<div>\n",
       "<style scoped>\n",
       "    .dataframe tbody tr th:only-of-type {\n",
       "        vertical-align: middle;\n",
       "    }\n",
       "\n",
       "    .dataframe tbody tr th {\n",
       "        vertical-align: top;\n",
       "    }\n",
       "\n",
       "    .dataframe thead th {\n",
       "        text-align: right;\n",
       "    }\n",
       "</style>\n",
       "<table border=\"1\" class=\"dataframe\">\n",
       "  <thead>\n",
       "    <tr style=\"text-align: right;\">\n",
       "      <th></th>\n",
       "      <th>CALENDAR_ID</th>\n",
       "      <th>SERVICE_ABBR</th>\n",
       "      <th>ADHERENCE_ID</th>\n",
       "      <th>DATE</th>\n",
       "      <th>ROUTE_ABBR</th>\n",
       "      <th>BLOCK_ABBR</th>\n",
       "      <th>OPERATOR</th>\n",
       "      <th>TRIP_ID</th>\n",
       "      <th>OVERLOAD_ID</th>\n",
       "      <th>ROUTE_DIRECTION_NAME</th>\n",
       "      <th>TIME_POINT_ABBR</th>\n",
       "      <th>ROUTE_STOP_SEQUENCE</th>\n",
       "      <th>TRIP_EDGE</th>\n",
       "      <th>LATITUDE</th>\n",
       "      <th>LONGITUDE</th>\n",
       "      <th>SCHEDULED_TIME</th>\n",
       "      <th>ACTUAL_ARRIVAL_TIME</th>\n",
       "      <th>ACTUAL_DEPARTURE_TIME</th>\n",
       "      <th>ADHERENCE</th>\n",
       "      <th>SCHEDULED_HDWY</th>\n",
       "      <th>ACTUAL_HDWY</th>\n",
       "      <th>HDWY_DEV</th>\n",
       "      <th>ADJUSTED_EARLY_COUNT</th>\n",
       "      <th>ADJUSTED_LATE_COUNT</th>\n",
       "      <th>ADJUSTED_ONTIME_COUNT</th>\n",
       "      <th>STOP_CANCELLED</th>\n",
       "      <th>PREV_SCHED_STOP_CANCELLED</th>\n",
       "      <th>IS_RELIEF</th>\n",
       "      <th>BLOCK_STOP_ORDER</th>\n",
       "      <th>DWELL_IN_MINS</th>\n",
       "      <th>DAYS_OF_THE_WEEK</th>\n",
       "      <th>TRIP_IDS</th>\n",
       "      <th>row_num</th>\n",
       "      <th>stops</th>\n",
       "    </tr>\n",
       "  </thead>\n",
       "  <tbody>\n",
       "    <tr>\n",
       "      <th>6136</th>\n",
       "      <td>120230801</td>\n",
       "      <td>1</td>\n",
       "      <td>99465617</td>\n",
       "      <td>2023-08-01</td>\n",
       "      <td>7</td>\n",
       "      <td>700</td>\n",
       "      <td>3144</td>\n",
       "      <td>348421</td>\n",
       "      <td>0</td>\n",
       "      <td>FROM DOWNTOWN</td>\n",
       "      <td>HBHS</td>\n",
       "      <td>5.0</td>\n",
       "      <td>2</td>\n",
       "      <td>36.107575</td>\n",
       "      <td>-86.812719</td>\n",
       "      <td>2023-08-01 05:40:00</td>\n",
       "      <td>2023-08-01 05:09:44</td>\n",
       "      <td>2023-08-01 05:09:44</td>\n",
       "      <td>30.266666</td>\n",
       "      <td>NaN</td>\n",
       "      <td>NaN</td>\n",
       "      <td>NaN</td>\n",
       "      <td>0</td>\n",
       "      <td>0</td>\n",
       "      <td>1</td>\n",
       "      <td>0</td>\n",
       "      <td>NaN</td>\n",
       "      <td>0</td>\n",
       "      <td>27</td>\n",
       "      <td>0.000000</td>\n",
       "      <td>1</td>\n",
       "      <td>348421120230801</td>\n",
       "      <td>1</td>\n",
       "      <td>1</td>\n",
       "    </tr>\n",
       "    <tr>\n",
       "      <th>6140</th>\n",
       "      <td>120230801</td>\n",
       "      <td>1</td>\n",
       "      <td>99465621</td>\n",
       "      <td>2023-08-01</td>\n",
       "      <td>7</td>\n",
       "      <td>700</td>\n",
       "      <td>3144</td>\n",
       "      <td>348423</td>\n",
       "      <td>0</td>\n",
       "      <td>FROM DOWNTOWN</td>\n",
       "      <td>MCC5_9</td>\n",
       "      <td>3.0</td>\n",
       "      <td>1</td>\n",
       "      <td>36.167091</td>\n",
       "      <td>-86.781923</td>\n",
       "      <td>2023-08-01 06:15:00</td>\n",
       "      <td>2023-08-01 05:20:00</td>\n",
       "      <td>2023-08-01 05:27:29</td>\n",
       "      <td>47.516666</td>\n",
       "      <td>10.0</td>\n",
       "      <td>NaN</td>\n",
       "      <td>NaN</td>\n",
       "      <td>1</td>\n",
       "      <td>0</td>\n",
       "      <td>0</td>\n",
       "      <td>0</td>\n",
       "      <td>0.0</td>\n",
       "      <td>0</td>\n",
       "      <td>50</td>\n",
       "      <td>7.483333</td>\n",
       "      <td>1</td>\n",
       "      <td>348423120230801</td>\n",
       "      <td>1</td>\n",
       "      <td>1</td>\n",
       "    </tr>\n",
       "    <tr>\n",
       "      <th>6141</th>\n",
       "      <td>120230801</td>\n",
       "      <td>1</td>\n",
       "      <td>99465622</td>\n",
       "      <td>2023-08-01</td>\n",
       "      <td>7</td>\n",
       "      <td>700</td>\n",
       "      <td>3144</td>\n",
       "      <td>348423</td>\n",
       "      <td>0</td>\n",
       "      <td>FROM DOWNTOWN</td>\n",
       "      <td>21BK</td>\n",
       "      <td>4.0</td>\n",
       "      <td>0</td>\n",
       "      <td>36.138881</td>\n",
       "      <td>-86.800622</td>\n",
       "      <td>2023-08-01 06:30:00</td>\n",
       "      <td>2023-08-01 05:34:24</td>\n",
       "      <td>2023-08-01 05:34:24</td>\n",
       "      <td>55.600000</td>\n",
       "      <td>10.0</td>\n",
       "      <td>NaN</td>\n",
       "      <td>NaN</td>\n",
       "      <td>1</td>\n",
       "      <td>0</td>\n",
       "      <td>0</td>\n",
       "      <td>0</td>\n",
       "      <td>0.0</td>\n",
       "      <td>0</td>\n",
       "      <td>61</td>\n",
       "      <td>0.000000</td>\n",
       "      <td>1</td>\n",
       "      <td>348423120230801</td>\n",
       "      <td>1</td>\n",
       "      <td>2</td>\n",
       "    </tr>\n",
       "    <tr>\n",
       "      <th>6142</th>\n",
       "      <td>120230801</td>\n",
       "      <td>1</td>\n",
       "      <td>99465623</td>\n",
       "      <td>2023-08-01</td>\n",
       "      <td>7</td>\n",
       "      <td>700</td>\n",
       "      <td>3144</td>\n",
       "      <td>348423</td>\n",
       "      <td>0</td>\n",
       "      <td>FROM DOWNTOWN</td>\n",
       "      <td>HBHS</td>\n",
       "      <td>5.0</td>\n",
       "      <td>2</td>\n",
       "      <td>36.107575</td>\n",
       "      <td>-86.812719</td>\n",
       "      <td>2023-08-01 06:42:00</td>\n",
       "      <td>2023-08-01 05:42:03</td>\n",
       "      <td>2023-08-01 05:42:03</td>\n",
       "      <td>59.950000</td>\n",
       "      <td>NaN</td>\n",
       "      <td>NaN</td>\n",
       "      <td>NaN</td>\n",
       "      <td>1</td>\n",
       "      <td>0</td>\n",
       "      <td>0</td>\n",
       "      <td>0</td>\n",
       "      <td>NaN</td>\n",
       "      <td>0</td>\n",
       "      <td>75</td>\n",
       "      <td>0.000000</td>\n",
       "      <td>1</td>\n",
       "      <td>348423120230801</td>\n",
       "      <td>1</td>\n",
       "      <td>3</td>\n",
       "    </tr>\n",
       "    <tr>\n",
       "      <th>6146</th>\n",
       "      <td>120230801</td>\n",
       "      <td>1</td>\n",
       "      <td>99465627</td>\n",
       "      <td>2023-08-01</td>\n",
       "      <td>7</td>\n",
       "      <td>700</td>\n",
       "      <td>3144</td>\n",
       "      <td>348425</td>\n",
       "      <td>0</td>\n",
       "      <td>FROM DOWNTOWN</td>\n",
       "      <td>MCC5_9</td>\n",
       "      <td>3.0</td>\n",
       "      <td>1</td>\n",
       "      <td>36.167091</td>\n",
       "      <td>-86.781923</td>\n",
       "      <td>2023-08-01 07:30:00</td>\n",
       "      <td>2023-08-01 06:07:11</td>\n",
       "      <td>2023-08-01 06:23:28</td>\n",
       "      <td>66.533333</td>\n",
       "      <td>15.0</td>\n",
       "      <td>18.016666</td>\n",
       "      <td>3.016666</td>\n",
       "      <td>1</td>\n",
       "      <td>0</td>\n",
       "      <td>0</td>\n",
       "      <td>0</td>\n",
       "      <td>0.0</td>\n",
       "      <td>0</td>\n",
       "      <td>98</td>\n",
       "      <td>16.283333</td>\n",
       "      <td>1</td>\n",
       "      <td>348425120230801</td>\n",
       "      <td>1</td>\n",
       "      <td>1</td>\n",
       "    </tr>\n",
       "    <tr>\n",
       "      <th>...</th>\n",
       "      <td>...</td>\n",
       "      <td>...</td>\n",
       "      <td>...</td>\n",
       "      <td>...</td>\n",
       "      <td>...</td>\n",
       "      <td>...</td>\n",
       "      <td>...</td>\n",
       "      <td>...</td>\n",
       "      <td>...</td>\n",
       "      <td>...</td>\n",
       "      <td>...</td>\n",
       "      <td>...</td>\n",
       "      <td>...</td>\n",
       "      <td>...</td>\n",
       "      <td>...</td>\n",
       "      <td>...</td>\n",
       "      <td>...</td>\n",
       "      <td>...</td>\n",
       "      <td>...</td>\n",
       "      <td>...</td>\n",
       "      <td>...</td>\n",
       "      <td>...</td>\n",
       "      <td>...</td>\n",
       "      <td>...</td>\n",
       "      <td>...</td>\n",
       "      <td>...</td>\n",
       "      <td>...</td>\n",
       "      <td>...</td>\n",
       "      <td>...</td>\n",
       "      <td>...</td>\n",
       "      <td>...</td>\n",
       "      <td>...</td>\n",
       "      <td>...</td>\n",
       "      <td>...</td>\n",
       "    </tr>\n",
       "    <tr>\n",
       "      <th>350319</th>\n",
       "      <td>120230930</td>\n",
       "      <td>2</td>\n",
       "      <td>100406606</td>\n",
       "      <td>2023-09-30</td>\n",
       "      <td>7</td>\n",
       "      <td>702</td>\n",
       "      <td>2312</td>\n",
       "      <td>353447</td>\n",
       "      <td>0</td>\n",
       "      <td>FROM DOWNTOWN</td>\n",
       "      <td>MCC5_9</td>\n",
       "      <td>3.0</td>\n",
       "      <td>1</td>\n",
       "      <td>36.167091</td>\n",
       "      <td>-86.781923</td>\n",
       "      <td>2023-09-30 21:45:00</td>\n",
       "      <td>2023-09-30 21:43:52</td>\n",
       "      <td>2023-09-30 21:50:54</td>\n",
       "      <td>-5.900000</td>\n",
       "      <td>30.0</td>\n",
       "      <td>36.716666</td>\n",
       "      <td>6.716666</td>\n",
       "      <td>0</td>\n",
       "      <td>0</td>\n",
       "      <td>1</td>\n",
       "      <td>0</td>\n",
       "      <td>0.0</td>\n",
       "      <td>0</td>\n",
       "      <td>504</td>\n",
       "      <td>7.033333</td>\n",
       "      <td>5</td>\n",
       "      <td>353447120230930</td>\n",
       "      <td>1</td>\n",
       "      <td>1</td>\n",
       "    </tr>\n",
       "    <tr>\n",
       "      <th>350321</th>\n",
       "      <td>120230930</td>\n",
       "      <td>2</td>\n",
       "      <td>100406608</td>\n",
       "      <td>2023-09-30</td>\n",
       "      <td>7</td>\n",
       "      <td>702</td>\n",
       "      <td>2312</td>\n",
       "      <td>353447</td>\n",
       "      <td>0</td>\n",
       "      <td>FROM DOWNTOWN</td>\n",
       "      <td>HBHS</td>\n",
       "      <td>5.0</td>\n",
       "      <td>2</td>\n",
       "      <td>36.107575</td>\n",
       "      <td>-86.812719</td>\n",
       "      <td>2023-09-30 22:11:00</td>\n",
       "      <td>2023-09-30 22:22:39</td>\n",
       "      <td>2023-09-30 22:22:39</td>\n",
       "      <td>-11.650000</td>\n",
       "      <td>NaN</td>\n",
       "      <td>NaN</td>\n",
       "      <td>NaN</td>\n",
       "      <td>0</td>\n",
       "      <td>1</td>\n",
       "      <td>0</td>\n",
       "      <td>0</td>\n",
       "      <td>NaN</td>\n",
       "      <td>0</td>\n",
       "      <td>529</td>\n",
       "      <td>0.000000</td>\n",
       "      <td>5</td>\n",
       "      <td>353447120230930</td>\n",
       "      <td>1</td>\n",
       "      <td>2</td>\n",
       "    </tr>\n",
       "    <tr>\n",
       "      <th>350325</th>\n",
       "      <td>120230930</td>\n",
       "      <td>2</td>\n",
       "      <td>100406612</td>\n",
       "      <td>2023-09-30</td>\n",
       "      <td>7</td>\n",
       "      <td>702</td>\n",
       "      <td>2312</td>\n",
       "      <td>353449</td>\n",
       "      <td>0</td>\n",
       "      <td>FROM DOWNTOWN</td>\n",
       "      <td>MCC5_9</td>\n",
       "      <td>3.0</td>\n",
       "      <td>1</td>\n",
       "      <td>36.167091</td>\n",
       "      <td>-86.781923</td>\n",
       "      <td>2023-09-30 22:45:00</td>\n",
       "      <td>2023-09-30 22:49:19</td>\n",
       "      <td>2023-09-30 22:49:19</td>\n",
       "      <td>-4.316666</td>\n",
       "      <td>30.0</td>\n",
       "      <td>31.866666</td>\n",
       "      <td>1.866666</td>\n",
       "      <td>0</td>\n",
       "      <td>0</td>\n",
       "      <td>1</td>\n",
       "      <td>0</td>\n",
       "      <td>0.0</td>\n",
       "      <td>0</td>\n",
       "      <td>552</td>\n",
       "      <td>0.000000</td>\n",
       "      <td>5</td>\n",
       "      <td>353449120230930</td>\n",
       "      <td>1</td>\n",
       "      <td>1</td>\n",
       "    </tr>\n",
       "    <tr>\n",
       "      <th>350326</th>\n",
       "      <td>120230930</td>\n",
       "      <td>2</td>\n",
       "      <td>100406613</td>\n",
       "      <td>2023-09-30</td>\n",
       "      <td>7</td>\n",
       "      <td>702</td>\n",
       "      <td>2312</td>\n",
       "      <td>353449</td>\n",
       "      <td>0</td>\n",
       "      <td>FROM DOWNTOWN</td>\n",
       "      <td>21BK</td>\n",
       "      <td>4.0</td>\n",
       "      <td>0</td>\n",
       "      <td>36.138881</td>\n",
       "      <td>-86.800622</td>\n",
       "      <td>2023-09-30 22:59:00</td>\n",
       "      <td>2023-09-30 23:21:05</td>\n",
       "      <td>2023-09-30 23:21:05</td>\n",
       "      <td>-22.083333</td>\n",
       "      <td>30.0</td>\n",
       "      <td>47.500000</td>\n",
       "      <td>17.500000</td>\n",
       "      <td>0</td>\n",
       "      <td>1</td>\n",
       "      <td>0</td>\n",
       "      <td>0</td>\n",
       "      <td>0.0</td>\n",
       "      <td>0</td>\n",
       "      <td>563</td>\n",
       "      <td>0.000000</td>\n",
       "      <td>5</td>\n",
       "      <td>353449120230930</td>\n",
       "      <td>1</td>\n",
       "      <td>2</td>\n",
       "    </tr>\n",
       "    <tr>\n",
       "      <th>350327</th>\n",
       "      <td>120230930</td>\n",
       "      <td>2</td>\n",
       "      <td>100406614</td>\n",
       "      <td>2023-09-30</td>\n",
       "      <td>7</td>\n",
       "      <td>702</td>\n",
       "      <td>2312</td>\n",
       "      <td>353449</td>\n",
       "      <td>0</td>\n",
       "      <td>FROM DOWNTOWN</td>\n",
       "      <td>HBHS</td>\n",
       "      <td>5.0</td>\n",
       "      <td>2</td>\n",
       "      <td>36.107575</td>\n",
       "      <td>-86.812719</td>\n",
       "      <td>2023-09-30 23:11:00</td>\n",
       "      <td>2023-09-30 23:31:27</td>\n",
       "      <td>2023-09-30 23:34:40</td>\n",
       "      <td>-23.666666</td>\n",
       "      <td>NaN</td>\n",
       "      <td>NaN</td>\n",
       "      <td>NaN</td>\n",
       "      <td>0</td>\n",
       "      <td>1</td>\n",
       "      <td>0</td>\n",
       "      <td>0</td>\n",
       "      <td>NaN</td>\n",
       "      <td>0</td>\n",
       "      <td>577</td>\n",
       "      <td>3.216666</td>\n",
       "      <td>5</td>\n",
       "      <td>353449120230930</td>\n",
       "      <td>1</td>\n",
       "      <td>3</td>\n",
       "    </tr>\n",
       "  </tbody>\n",
       "</table>\n",
       "<p>9026 rows × 34 columns</p>\n",
       "</div>"
      ],
      "text/plain": [
       "       CALENDAR_ID  SERVICE_ABBR  ADHERENCE_ID       DATE  ROUTE_ABBR  \\\n",
       "6136     120230801             1      99465617 2023-08-01           7   \n",
       "6140     120230801             1      99465621 2023-08-01           7   \n",
       "6141     120230801             1      99465622 2023-08-01           7   \n",
       "6142     120230801             1      99465623 2023-08-01           7   \n",
       "6146     120230801             1      99465627 2023-08-01           7   \n",
       "...            ...           ...           ...        ...         ...   \n",
       "350319   120230930             2     100406606 2023-09-30           7   \n",
       "350321   120230930             2     100406608 2023-09-30           7   \n",
       "350325   120230930             2     100406612 2023-09-30           7   \n",
       "350326   120230930             2     100406613 2023-09-30           7   \n",
       "350327   120230930             2     100406614 2023-09-30           7   \n",
       "\n",
       "        BLOCK_ABBR  OPERATOR TRIP_ID  OVERLOAD_ID ROUTE_DIRECTION_NAME  \\\n",
       "6136           700      3144  348421            0        FROM DOWNTOWN   \n",
       "6140           700      3144  348423            0        FROM DOWNTOWN   \n",
       "6141           700      3144  348423            0        FROM DOWNTOWN   \n",
       "6142           700      3144  348423            0        FROM DOWNTOWN   \n",
       "6146           700      3144  348425            0        FROM DOWNTOWN   \n",
       "...            ...       ...     ...          ...                  ...   \n",
       "350319         702      2312  353447            0        FROM DOWNTOWN   \n",
       "350321         702      2312  353447            0        FROM DOWNTOWN   \n",
       "350325         702      2312  353449            0        FROM DOWNTOWN   \n",
       "350326         702      2312  353449            0        FROM DOWNTOWN   \n",
       "350327         702      2312  353449            0        FROM DOWNTOWN   \n",
       "\n",
       "       TIME_POINT_ABBR  ROUTE_STOP_SEQUENCE  TRIP_EDGE   LATITUDE  LONGITUDE  \\\n",
       "6136              HBHS                  5.0          2  36.107575 -86.812719   \n",
       "6140            MCC5_9                  3.0          1  36.167091 -86.781923   \n",
       "6141              21BK                  4.0          0  36.138881 -86.800622   \n",
       "6142              HBHS                  5.0          2  36.107575 -86.812719   \n",
       "6146            MCC5_9                  3.0          1  36.167091 -86.781923   \n",
       "...                ...                  ...        ...        ...        ...   \n",
       "350319          MCC5_9                  3.0          1  36.167091 -86.781923   \n",
       "350321            HBHS                  5.0          2  36.107575 -86.812719   \n",
       "350325          MCC5_9                  3.0          1  36.167091 -86.781923   \n",
       "350326            21BK                  4.0          0  36.138881 -86.800622   \n",
       "350327            HBHS                  5.0          2  36.107575 -86.812719   \n",
       "\n",
       "            SCHEDULED_TIME ACTUAL_ARRIVAL_TIME ACTUAL_DEPARTURE_TIME  \\\n",
       "6136   2023-08-01 05:40:00 2023-08-01 05:09:44   2023-08-01 05:09:44   \n",
       "6140   2023-08-01 06:15:00 2023-08-01 05:20:00   2023-08-01 05:27:29   \n",
       "6141   2023-08-01 06:30:00 2023-08-01 05:34:24   2023-08-01 05:34:24   \n",
       "6142   2023-08-01 06:42:00 2023-08-01 05:42:03   2023-08-01 05:42:03   \n",
       "6146   2023-08-01 07:30:00 2023-08-01 06:07:11   2023-08-01 06:23:28   \n",
       "...                    ...                 ...                   ...   \n",
       "350319 2023-09-30 21:45:00 2023-09-30 21:43:52   2023-09-30 21:50:54   \n",
       "350321 2023-09-30 22:11:00 2023-09-30 22:22:39   2023-09-30 22:22:39   \n",
       "350325 2023-09-30 22:45:00 2023-09-30 22:49:19   2023-09-30 22:49:19   \n",
       "350326 2023-09-30 22:59:00 2023-09-30 23:21:05   2023-09-30 23:21:05   \n",
       "350327 2023-09-30 23:11:00 2023-09-30 23:31:27   2023-09-30 23:34:40   \n",
       "\n",
       "        ADHERENCE  SCHEDULED_HDWY  ACTUAL_HDWY   HDWY_DEV  \\\n",
       "6136    30.266666             NaN          NaN        NaN   \n",
       "6140    47.516666            10.0          NaN        NaN   \n",
       "6141    55.600000            10.0          NaN        NaN   \n",
       "6142    59.950000             NaN          NaN        NaN   \n",
       "6146    66.533333            15.0    18.016666   3.016666   \n",
       "...           ...             ...          ...        ...   \n",
       "350319  -5.900000            30.0    36.716666   6.716666   \n",
       "350321 -11.650000             NaN          NaN        NaN   \n",
       "350325  -4.316666            30.0    31.866666   1.866666   \n",
       "350326 -22.083333            30.0    47.500000  17.500000   \n",
       "350327 -23.666666             NaN          NaN        NaN   \n",
       "\n",
       "        ADJUSTED_EARLY_COUNT  ADJUSTED_LATE_COUNT  ADJUSTED_ONTIME_COUNT  \\\n",
       "6136                       0                    0                      1   \n",
       "6140                       1                    0                      0   \n",
       "6141                       1                    0                      0   \n",
       "6142                       1                    0                      0   \n",
       "6146                       1                    0                      0   \n",
       "...                      ...                  ...                    ...   \n",
       "350319                     0                    0                      1   \n",
       "350321                     0                    1                      0   \n",
       "350325                     0                    0                      1   \n",
       "350326                     0                    1                      0   \n",
       "350327                     0                    1                      0   \n",
       "\n",
       "        STOP_CANCELLED  PREV_SCHED_STOP_CANCELLED  IS_RELIEF  \\\n",
       "6136                 0                        NaN          0   \n",
       "6140                 0                        0.0          0   \n",
       "6141                 0                        0.0          0   \n",
       "6142                 0                        NaN          0   \n",
       "6146                 0                        0.0          0   \n",
       "...                ...                        ...        ...   \n",
       "350319               0                        0.0          0   \n",
       "350321               0                        NaN          0   \n",
       "350325               0                        0.0          0   \n",
       "350326               0                        0.0          0   \n",
       "350327               0                        NaN          0   \n",
       "\n",
       "        BLOCK_STOP_ORDER  DWELL_IN_MINS  DAYS_OF_THE_WEEK         TRIP_IDS  \\\n",
       "6136                  27       0.000000                 1  348421120230801   \n",
       "6140                  50       7.483333                 1  348423120230801   \n",
       "6141                  61       0.000000                 1  348423120230801   \n",
       "6142                  75       0.000000                 1  348423120230801   \n",
       "6146                  98      16.283333                 1  348425120230801   \n",
       "...                  ...            ...               ...              ...   \n",
       "350319               504       7.033333                 5  353447120230930   \n",
       "350321               529       0.000000                 5  353447120230930   \n",
       "350325               552       0.000000                 5  353449120230930   \n",
       "350326               563       0.000000                 5  353449120230930   \n",
       "350327               577       3.216666                 5  353449120230930   \n",
       "\n",
       "        row_num  stops  \n",
       "6136          1      1  \n",
       "6140          1      1  \n",
       "6141          1      2  \n",
       "6142          1      3  \n",
       "6146          1      1  \n",
       "...         ...    ...  \n",
       "350319        1      1  \n",
       "350321        1      2  \n",
       "350325        1      1  \n",
       "350326        1      2  \n",
       "350327        1      3  \n",
       "\n",
       "[9026 rows x 34 columns]"
      ]
     },
     "execution_count": 11,
     "metadata": {},
     "output_type": "execute_result"
    }
   ],
   "source": [
    "route_df"
   ]
  },
  {
   "cell_type": "code",
   "execution_count": null,
   "id": "20f50370",
   "metadata": {},
   "outputs": [],
   "source": [
    "route_df_new = route_df_pivot.iloc[:, 0:3].dropna()\n"
   ]
  },
  {
   "cell_type": "code",
   "execution_count": null,
   "id": "7e85ddd7",
   "metadata": {},
   "outputs": [],
   "source": [
    "route_df_new[1].mean().round(2)"
   ]
  },
  {
   "cell_type": "code",
   "execution_count": null,
   "id": "57a67774",
   "metadata": {},
   "outputs": [],
   "source": [
    "route_df_new[3].mean().round(2)"
   ]
  },
  {
   "cell_type": "code",
   "execution_count": null,
   "id": "99d31df5",
   "metadata": {},
   "outputs": [],
   "source": [
    "route_df_new[1].corr(route_df_new[3])"
   ]
  },
  {
   "cell_type": "code",
   "execution_count": null,
   "id": "b63dbefd",
   "metadata": {},
   "outputs": [],
   "source": [
    "route_df_new = route_df_new.rename(columns = {1:\"one\", 2:'two', 3:'three'})"
   ]
  },
  {
   "cell_type": "code",
   "execution_count": null,
   "id": "3257393d",
   "metadata": {},
   "outputs": [],
   "source": [
    "lm = smf.ols(\"three ~ one\", data=route_df_new).fit()\n",
    "lm.summary()"
   ]
  },
  {
   "cell_type": "code",
   "execution_count": null,
   "id": "e34c095f",
   "metadata": {},
   "outputs": [],
   "source": [
    "(-1) - (-1.5649)/(1.0030)"
   ]
  },
  {
   "cell_type": "code",
   "execution_count": null,
   "id": "a4ab244f",
   "metadata": {},
   "outputs": [],
   "source": [
    "#y = -1.5649 + 1.0030 * x"
   ]
  },
  {
   "cell_type": "code",
   "execution_count": null,
   "id": "7d6ae208",
   "metadata": {},
   "outputs": [],
   "source": [
    "#-1.5649 + 1.0030"
   ]
  },
  {
   "cell_type": "markdown",
   "id": "aab915af",
   "metadata": {},
   "source": [
    "**On route 7 from downtown As you move from the first bus stop to the last one, the lateness tends to increase by approximately **"
   ]
  },
  {
   "cell_type": "markdown",
   "id": "04325df4",
   "metadata": {},
   "source": [
    "**ROUTE 7 TO DOWNTOWN**"
   ]
  },
  {
   "cell_type": "code",
   "execution_count": null,
   "id": "99d35d8c",
   "metadata": {},
   "outputs": [],
   "source": [
    "route_number = 7\n",
    "route_direction = 'TO DOWNTOWN'\n",
    "\n",
    "route_df = wego.loc[\n",
    "    (wego['ROUTE_ABBR'] == route_number) & (wego['ROUTE_DIRECTION_NAME']== route_direction)\n",
    "]\n",
    "route_df = route_df.copy()"
   ]
  },
  {
   "cell_type": "code",
   "execution_count": null,
   "id": "a14926c1",
   "metadata": {},
   "outputs": [],
   "source": [
    "#changing the dtype to string so that i can concat with the \"CALENDAR ID\" column\n",
    "#changing the dtype to string so that i can concat with the \"ROUTE ID\" column\n",
    "\n",
    "route_df['TRIP_IDS'] = route_df['TRIP_ID'] + route_df['CALENDAR_ID']\n",
    "route_df['TRIP_ID'] = route_df['TRIP_ID'].astype(str)\n",
    "route_df['CALENDAR_ID'] = route_df['CALENDAR_ID'].astype(str)\n",
    "route_df['TRIP_IDS'] = route_df['TRIP_ID'] + route_df['CALENDAR_ID']"
   ]
  },
  {
   "cell_type": "code",
   "execution_count": null,
   "id": "602b4c4a",
   "metadata": {},
   "outputs": [],
   "source": [
    "#allows for each stop to be numbered in their respective route IDs\n",
    "route_df['row_num'] = 1\n",
    "route_df['stops'] = route_df.groupby('TRIP_IDS')['row_num'].cumsum()"
   ]
  },
  {
   "cell_type": "code",
   "execution_count": null,
   "id": "565c98b7",
   "metadata": {},
   "outputs": [],
   "source": [
    "#creating a pivot table that will make the columns the stop #, the rows is each trip, and the values the adherence(amount of minutes late)\n",
    "route_df_pivot = route_df.pivot_table(values = 'ADHERENCE', index = 'TRIP_IDS', columns = 'stops')"
   ]
  },
  {
   "cell_type": "code",
   "execution_count": null,
   "id": "1f4baa5c",
   "metadata": {},
   "outputs": [],
   "source": [
    "route_df_new = route_df_pivot.iloc[:, 0:3].dropna()"
   ]
  },
  {
   "cell_type": "code",
   "execution_count": null,
   "id": "c3f45d54",
   "metadata": {},
   "outputs": [],
   "source": [
    "route_df_new[1].mean().round(2)"
   ]
  },
  {
   "cell_type": "code",
   "execution_count": null,
   "id": "5af0235c",
   "metadata": {},
   "outputs": [],
   "source": [
    "route_df_new[3].mean().round(2)"
   ]
  },
  {
   "cell_type": "code",
   "execution_count": null,
   "id": "7f481a24",
   "metadata": {},
   "outputs": [],
   "source": [
    "route_df_new[1].corr(route_df_new[3])"
   ]
  },
  {
   "cell_type": "code",
   "execution_count": null,
   "id": "e84d06fe",
   "metadata": {},
   "outputs": [],
   "source": [
    "route_df_new = route_df_new.rename(columns = {1:\"one\", 2:'two', 3:'three'})"
   ]
  },
  {
   "cell_type": "code",
   "execution_count": null,
   "id": "22c2c426",
   "metadata": {},
   "outputs": [],
   "source": [
    "lm = smf.ols(\"three ~ one\", data=route_df_new).fit()\n",
    "lm.summary()"
   ]
  },
  {
   "cell_type": "code",
   "execution_count": null,
   "id": "1d8fc25d",
   "metadata": {},
   "outputs": [],
   "source": [
    "(-1) - (-0.3846)/(0.8931)"
   ]
  },
  {
   "cell_type": "markdown",
   "id": "f478ed4f",
   "metadata": {},
   "source": [
    "**On route 7 to downtown As you move from the first bus stop to the last one, the lateness tends to increase by approximately **"
   ]
  },
  {
   "cell_type": "markdown",
   "id": "a791bc17",
   "metadata": {},
   "source": [
    "**ROUTE 22 TO DOWTOWN**"
   ]
  },
  {
   "cell_type": "code",
   "execution_count": null,
   "id": "bcd9efc5",
   "metadata": {},
   "outputs": [],
   "source": [
    "route_number = 22\n",
    "route_direction = 'TO DOWNTOWN'\n",
    "\n",
    "route_df = wego.loc[\n",
    "    (wego['ROUTE_ABBR'] == route_number) & (wego['ROUTE_DIRECTION_NAME']== route_direction)\n",
    "]\n",
    "route_df = route_df.copy()"
   ]
  },
  {
   "cell_type": "code",
   "execution_count": null,
   "id": "42c839f4",
   "metadata": {},
   "outputs": [],
   "source": [
    "#changing the dtype to string so that i can concat with the \"CALENDAR ID\" column\n",
    "#changing the dtype to string so that i can concat with the \"ROUTE ID\" column\n",
    "\n",
    "route_df['TRIP_IDS'] = route_df['TRIP_ID'] + route_df['CALENDAR_ID']\n",
    "route_df['TRIP_ID'] = route_df['TRIP_ID'].astype(str)\n",
    "route_df['CALENDAR_ID'] = route_df['CALENDAR_ID'].astype(str)\n",
    "route_df['TRIP_IDS'] = route_df['TRIP_ID'] + route_df['CALENDAR_ID']"
   ]
  },
  {
   "cell_type": "code",
   "execution_count": null,
   "id": "cf36a67e",
   "metadata": {},
   "outputs": [],
   "source": [
    "#allows for each stop to be numbered in their respective route IDs\n",
    "route_df['row_num'] = 1\n",
    "route_df['stops'] = route_df.groupby('TRIP_IDS')['row_num'].cumsum()"
   ]
  },
  {
   "cell_type": "code",
   "execution_count": null,
   "id": "82085c45",
   "metadata": {},
   "outputs": [],
   "source": [
    "#creating a pivot table that will make the columns the stop #, the rows is each trip, and the values the adherence(amount of minutes late)\n",
    "route_df_pivot = route_df.pivot_table(values = 'ADHERENCE', index = 'TRIP_IDS', columns = 'stops')"
   ]
  },
  {
   "cell_type": "code",
   "execution_count": null,
   "id": "c985575a",
   "metadata": {
    "scrolled": true
   },
   "outputs": [],
   "source": [
    "wego[wego['ROUTE_ABBR']==22].head(20)"
   ]
  },
  {
   "cell_type": "code",
   "execution_count": null,
   "id": "34faf865",
   "metadata": {},
   "outputs": [],
   "source": [
    "route_df_new = route_df_pivot.iloc[:, 0:3].dropna()"
   ]
  },
  {
   "cell_type": "code",
   "execution_count": null,
   "id": "f79e8972",
   "metadata": {},
   "outputs": [],
   "source": [
    "route_df_new[1].mean().round(2)"
   ]
  },
  {
   "cell_type": "code",
   "execution_count": null,
   "id": "2929db1b",
   "metadata": {},
   "outputs": [],
   "source": [
    "route_df_new[3].mean().round(2)"
   ]
  },
  {
   "cell_type": "code",
   "execution_count": null,
   "id": "d7c5014b",
   "metadata": {},
   "outputs": [],
   "source": [
    "route_df_new_4 = route_df_pivot.iloc[:, 0:4].dropna()"
   ]
  },
  {
   "cell_type": "code",
   "execution_count": null,
   "id": "d1fb7ed3",
   "metadata": {},
   "outputs": [],
   "source": [
    "route_df_new[1].corr(route_df_new[3])"
   ]
  },
  {
   "cell_type": "code",
   "execution_count": null,
   "id": "c878dacd",
   "metadata": {},
   "outputs": [],
   "source": [
    " route_df_new_4[1].corr(route_df_new_4[4])"
   ]
  },
  {
   "cell_type": "code",
   "execution_count": null,
   "id": "739245bf",
   "metadata": {},
   "outputs": [],
   "source": [
    "route_df_new = route_df_new.rename(columns = {1:\"one\", 2:'two', 3:'three'})"
   ]
  },
  {
   "cell_type": "code",
   "execution_count": null,
   "id": "cbab2a6e",
   "metadata": {},
   "outputs": [],
   "source": [
    "route_df_new_4 = route_df_new_4.rename(columns = {1:\"one\", 2:'two', 3:'three', 4:'four'})"
   ]
  },
  {
   "cell_type": "code",
   "execution_count": null,
   "id": "942709bc",
   "metadata": {},
   "outputs": [],
   "source": [
    "lm = smf.ols(\"three ~ one\", data=route_df_new).fit()\n",
    "lm.summary()"
   ]
  },
  {
   "cell_type": "markdown",
   "id": "c7cac25f",
   "metadata": {},
   "source": [
    "**On route 22 to downtown As you move from the first bus stop to the last one, the lateness tends to increase by approximately .This is when the bus has only three stops**"
   ]
  },
  {
   "cell_type": "code",
   "execution_count": null,
   "id": "d3854ede",
   "metadata": {},
   "outputs": [],
   "source": [
    "lm = smf.ols(\"four ~ one\", data=route_df_new_4).fit()\n",
    "lm.summary()"
   ]
  },
  {
   "cell_type": "markdown",
   "id": "a970a68f",
   "metadata": {},
   "source": [
    "**On route 22 to downtown As you move from the first bus stop to the last one, the lateness tends to increase by approximately . This is when the bus has only four stops**"
   ]
  },
  {
   "cell_type": "markdown",
   "id": "76d1e9f4",
   "metadata": {},
   "source": [
    "**ROUTE 22 FROM DOWNTOWN**"
   ]
  },
  {
   "cell_type": "code",
   "execution_count": null,
   "id": "072439a4",
   "metadata": {},
   "outputs": [],
   "source": [
    "route_number = 22\n",
    "route_direction = 'FROM DOWNTOWN'\n",
    "\n",
    "route_df = wego.loc[\n",
    "    (wego['ROUTE_ABBR'] == route_number) & (wego['ROUTE_DIRECTION_NAME']== route_direction)\n",
    "]\n",
    "route_df = route_df.copy()"
   ]
  },
  {
   "cell_type": "code",
   "execution_count": null,
   "id": "bcde27bb",
   "metadata": {},
   "outputs": [],
   "source": [
    "#changing the dtype to string so that i can concat with the \"CALENDAR ID\" column\n",
    "#changing the dtype to string so that i can concat with the \"ROUTE ID\" column\n",
    "\n",
    "route_df['TRIP_IDS'] = route_df['TRIP_ID'] + route_df['CALENDAR_ID']\n",
    "route_df['TRIP_ID'] = route_df['TRIP_ID'].astype(str)\n",
    "route_df['CALENDAR_ID'] = route_df['CALENDAR_ID'].astype(str)\n",
    "route_df['TRIP_IDS'] = route_df['TRIP_ID'] + route_df['CALENDAR_ID']"
   ]
  },
  {
   "cell_type": "code",
   "execution_count": null,
   "id": "850854d9",
   "metadata": {},
   "outputs": [],
   "source": [
    "#allows for each stop to be numbered in their respective route IDs\n",
    "route_df['row_num'] = 1\n",
    "route_df['stops'] = route_df.groupby('TRIP_IDS')['row_num'].cumsum()"
   ]
  },
  {
   "cell_type": "code",
   "execution_count": null,
   "id": "8d9e670a",
   "metadata": {},
   "outputs": [],
   "source": [
    "#creating a pivot table that will make the columns the stop #, the rows is each trip, and the values the adherence(amount of minutes late)\n",
    "route_df_pivot = route_df.pivot_table(values = 'ADHERENCE', index = 'TRIP_IDS', columns = 'stops')"
   ]
  },
  {
   "cell_type": "code",
   "execution_count": null,
   "id": "1c4fa78b",
   "metadata": {},
   "outputs": [],
   "source": [
    "route_df_new = route_df_pivot.iloc[:, 0:3].dropna()"
   ]
  },
  {
   "cell_type": "code",
   "execution_count": null,
   "id": "7edafbeb",
   "metadata": {},
   "outputs": [],
   "source": [
    "route_df_new[1].mean().round(2)"
   ]
  },
  {
   "cell_type": "code",
   "execution_count": null,
   "id": "8d671c8f",
   "metadata": {},
   "outputs": [],
   "source": [
    "route_df_new[3].mean().round(2)"
   ]
  },
  {
   "cell_type": "code",
   "execution_count": null,
   "id": "c7542ff6",
   "metadata": {},
   "outputs": [],
   "source": [
    "route_df_new[1].corr(route_df_new[3])"
   ]
  },
  {
   "cell_type": "code",
   "execution_count": null,
   "id": "becdb77b",
   "metadata": {},
   "outputs": [],
   "source": [
    "route_df_new = route_df_new.rename(columns = {1:\"one\", 2:'two', 3:'three'})"
   ]
  },
  {
   "cell_type": "code",
   "execution_count": null,
   "id": "2dd36e7a",
   "metadata": {},
   "outputs": [],
   "source": [
    "lm = smf.ols(\"three ~ one\", data=route_df_new).fit()\n",
    "lm.summary()"
   ]
  },
  {
   "cell_type": "markdown",
   "id": "75d1660d",
   "metadata": {},
   "source": [
    "**On route 22 from downtown As you move from the first bus stop to the last one, the lateness tends to increase by approximately .**"
   ]
  },
  {
   "cell_type": "markdown",
   "id": "b2531d76",
   "metadata": {},
   "source": [
    "**ROUTE 23 FROM DOWNTOWN**"
   ]
  },
  {
   "cell_type": "code",
   "execution_count": null,
   "id": "63d2018b",
   "metadata": {},
   "outputs": [],
   "source": [
    "route_number = 23\n",
    "route_direction = 'FROM DOWNTOWN'\n",
    "\n",
    "route_df = wego.loc[\n",
    "    (wego['ROUTE_ABBR'] == route_number) & (wego['ROUTE_DIRECTION_NAME']== route_direction)\n",
    "]\n",
    "route_df = route_df.copy()"
   ]
  },
  {
   "cell_type": "code",
   "execution_count": null,
   "id": "833ced6e",
   "metadata": {},
   "outputs": [],
   "source": [
    "#changing the dtype to string so that i can concat with the \"CALENDAR ID\" column\n",
    "#changing the dtype to string so that i can concat with the \"ROUTE ID\" column\n",
    "\n",
    "route_df['TRIP_IDS'] = route_df['TRIP_ID'] + route_df['CALENDAR_ID']\n",
    "route_df['TRIP_ID'] = route_df['TRIP_ID'].astype(str)\n",
    "route_df['CALENDAR_ID'] = route_df['CALENDAR_ID'].astype(str)\n",
    "route_df['TRIP_IDS'] = route_df['TRIP_ID'] + route_df['CALENDAR_ID']"
   ]
  },
  {
   "cell_type": "code",
   "execution_count": null,
   "id": "74b3d269",
   "metadata": {},
   "outputs": [],
   "source": [
    "#allows for each stop to be numbered in their respective route IDs\n",
    "route_df['row_num'] = 1\n",
    "route_df['stops'] = route_df.groupby('TRIP_IDS')['row_num'].cumsum()"
   ]
  },
  {
   "cell_type": "code",
   "execution_count": null,
   "id": "2116cdf5",
   "metadata": {},
   "outputs": [],
   "source": [
    "#creating a pivot table that will make the columns the stop #, the rows is each trip, and the values the adherence(amount of minutes late)\n",
    "route_df_pivot = route_df.pivot_table(values = 'ADHERENCE', index = 'TRIP_IDS', columns = 'stops')\n",
    "route_df_pivot"
   ]
  },
  {
   "cell_type": "code",
   "execution_count": null,
   "id": "c3502d5f",
   "metadata": {},
   "outputs": [],
   "source": [
    "route_df_new = route_df_pivot.iloc[:, 0:4].dropna()\n",
    "route_df_new"
   ]
  },
  {
   "cell_type": "code",
   "execution_count": null,
   "id": "f28fee3a",
   "metadata": {},
   "outputs": [],
   "source": [
    "route_df_new[1].mean().round(2)"
   ]
  },
  {
   "cell_type": "code",
   "execution_count": null,
   "id": "1cca5255",
   "metadata": {},
   "outputs": [],
   "source": [
    "route_df_new[4].mean().round(2)"
   ]
  },
  {
   "cell_type": "code",
   "execution_count": null,
   "id": "9f0fc376",
   "metadata": {},
   "outputs": [],
   "source": [
    "route_df_new[1].corr(route_df_new[4])"
   ]
  },
  {
   "cell_type": "code",
   "execution_count": null,
   "id": "13b7106f",
   "metadata": {},
   "outputs": [],
   "source": [
    "route_df_new = route_df_new.rename(columns = {1:\"one\", 2:'two', 3:'three', 4:'four'})"
   ]
  },
  {
   "cell_type": "code",
   "execution_count": null,
   "id": "01e0e396",
   "metadata": {},
   "outputs": [],
   "source": [
    "lm = smf.ols(\"four ~ one\", data=route_df_new).fit()\n",
    "lm.summary()"
   ]
  },
  {
   "cell_type": "markdown",
   "id": "ab9a812a",
   "metadata": {},
   "source": [
    "**On route 23 from downtown As you move from the first bus stop to the last one, the lateness tends to increase by approximately .**"
   ]
  },
  {
   "cell_type": "markdown",
   "id": "11cf64a7",
   "metadata": {},
   "source": [
    "**ROUTE 23 TO DOWNTOWN**"
   ]
  },
  {
   "cell_type": "code",
   "execution_count": null,
   "id": "9ac4ec72",
   "metadata": {},
   "outputs": [],
   "source": [
    "route_number = 23\n",
    "route_direction = 'TO DOWNTOWN'\n",
    "\n",
    "route_df = wego.loc[\n",
    "    (wego['ROUTE_ABBR'] == route_number) & (wego['ROUTE_DIRECTION_NAME']== route_direction)\n",
    "]\n",
    "route_df = route_df.copy()"
   ]
  },
  {
   "cell_type": "code",
   "execution_count": null,
   "id": "75eb2ce2",
   "metadata": {},
   "outputs": [],
   "source": [
    "#changing the dtype to string so that i can concat with the \"CALENDAR ID\" column\n",
    "#changing the dtype to string so that i can concat with the \"ROUTE ID\" column\n",
    "\n",
    "route_df['TRIP_IDS'] = route_df['TRIP_ID'] + route_df['CALENDAR_ID']\n",
    "route_df['TRIP_ID'] = route_df['TRIP_ID'].astype(str)\n",
    "route_df['CALENDAR_ID'] = route_df['CALENDAR_ID'].astype(str)\n",
    "route_df['TRIP_IDS'] = route_df['TRIP_ID'] + route_df['CALENDAR_ID']"
   ]
  },
  {
   "cell_type": "code",
   "execution_count": null,
   "id": "2b0f91eb",
   "metadata": {},
   "outputs": [],
   "source": [
    "#allows for each stop to be numbered in their respective route IDs\n",
    "route_df['row_num'] = 1\n",
    "route_df['stops'] = route_df.groupby('TRIP_IDS')['row_num'].cumsum()\n"
   ]
  },
  {
   "cell_type": "code",
   "execution_count": null,
   "id": "f8c973b8",
   "metadata": {},
   "outputs": [],
   "source": [
    "#creating a pivot table that will make the columns the stop #, the rows is each trip, and the values the adherence(amount of minutes late)\n",
    "route_df_pivot = route_df.pivot_table(values = 'ADHERENCE', index = 'TRIP_IDS', columns = 'stops')\n",
    "route_df_pivot"
   ]
  },
  {
   "cell_type": "code",
   "execution_count": null,
   "id": "6f68eee1",
   "metadata": {},
   "outputs": [],
   "source": [
    "route_df_new = route_df_pivot.iloc[:, 0:4].dropna()\n",
    "route_df_new"
   ]
  },
  {
   "cell_type": "code",
   "execution_count": null,
   "id": "0b203fd4",
   "metadata": {},
   "outputs": [],
   "source": [
    "route_df_new[1].mean().round(2)"
   ]
  },
  {
   "cell_type": "code",
   "execution_count": null,
   "id": "0550e28c",
   "metadata": {},
   "outputs": [],
   "source": [
    "route_df_new[4].mean().round(2)"
   ]
  },
  {
   "cell_type": "code",
   "execution_count": null,
   "id": "f2b175bc",
   "metadata": {},
   "outputs": [],
   "source": [
    "route_df_new[1].corr(route_df_new[4])"
   ]
  },
  {
   "cell_type": "code",
   "execution_count": null,
   "id": "2f6e739a",
   "metadata": {},
   "outputs": [],
   "source": [
    "route_df_new = route_df_new.rename(columns = {1:\"one\", 2:'two', 3:'three', 4:'four'})"
   ]
  },
  {
   "cell_type": "code",
   "execution_count": null,
   "id": "7cb2c575",
   "metadata": {},
   "outputs": [],
   "source": [
    "lm = smf.ols(\"four ~ one\", data=route_df_new).fit()\n",
    "lm.summary()"
   ]
  },
  {
   "cell_type": "markdown",
   "id": "dfa70819",
   "metadata": {},
   "source": [
    "**On route 23 to downtown As you move from the first bus stop to the last one, the lateness tends to increase by approximately .**"
   ]
  },
  {
   "cell_type": "markdown",
   "id": "15cb20d1",
   "metadata": {},
   "source": [
    "            "
   ]
  },
  {
   "cell_type": "markdown",
   "id": "75f11f4a",
   "metadata": {},
   "source": [
    "**ROUTE 50 TO DOWNTOWN**"
   ]
  },
  {
   "cell_type": "code",
   "execution_count": null,
   "id": "2c2b95ce",
   "metadata": {},
   "outputs": [],
   "source": [
    "route_number = 50\n",
    "route_direction = 'TO DOWNTOWN'\n",
    "\n",
    "route_df = wego.loc[\n",
    "    (wego['ROUTE_ABBR'] == route_number) & (wego['ROUTE_DIRECTION_NAME']== route_direction)\n",
    "]\n",
    "route_df = route_df.copy()"
   ]
  },
  {
   "cell_type": "code",
   "execution_count": null,
   "id": "77c51b34",
   "metadata": {},
   "outputs": [],
   "source": [
    "#changing the dtype to string so that i can concat with the \"CALENDAR ID\" column\n",
    "#changing the dtype to string so that i can concat with the \"ROUTE ID\" column\n",
    "\n",
    "route_df['TRIP_IDS'] = route_df['TRIP_ID'] + route_df['CALENDAR_ID']\n",
    "route_df['TRIP_ID'] = route_df['TRIP_ID'].astype(str)\n",
    "route_df['CALENDAR_ID'] = route_df['CALENDAR_ID'].astype(str)\n",
    "route_df['TRIP_IDS'] = route_df['TRIP_ID'] + route_df['CALENDAR_ID']"
   ]
  },
  {
   "cell_type": "code",
   "execution_count": null,
   "id": "fb2ea72c",
   "metadata": {},
   "outputs": [],
   "source": [
    "#allows for each stop to be numbered in their respective route IDs\n",
    "route_df['row_num'] = 1\n",
    "route_df['stops'] = route_df.groupby('TRIP_IDS')['row_num'].cumsum()"
   ]
  },
  {
   "cell_type": "code",
   "execution_count": null,
   "id": "c59bde67",
   "metadata": {},
   "outputs": [],
   "source": [
    "#creating a pivot table that will make the columns the stop #, the rows is each trip, and the values the adherence(amount of minutes late)\n",
    "route_df_pivot = route_df.pivot_table(values = 'ADHERENCE', index = 'TRIP_IDS', columns = 'stops')\n",
    "route_df_pivot"
   ]
  },
  {
   "cell_type": "code",
   "execution_count": null,
   "id": "b922ce3f",
   "metadata": {},
   "outputs": [],
   "source": [
    "route_df_new = route_df_pivot.iloc[:, 0:6].dropna()\n",
    "route_df_new"
   ]
  },
  {
   "cell_type": "code",
   "execution_count": null,
   "id": "ee53e967",
   "metadata": {},
   "outputs": [],
   "source": [
    "route_df_new[1].mean().round(2)"
   ]
  },
  {
   "cell_type": "code",
   "execution_count": null,
   "id": "ab79d48b",
   "metadata": {},
   "outputs": [],
   "source": [
    "route_df_new[6].mean().round(2)"
   ]
  },
  {
   "cell_type": "code",
   "execution_count": null,
   "id": "021623df",
   "metadata": {},
   "outputs": [],
   "source": [
    "route_df_new[1].corr(route_df_new[6])"
   ]
  },
  {
   "cell_type": "code",
   "execution_count": null,
   "id": "5dba691c",
   "metadata": {},
   "outputs": [],
   "source": [
    "route_df_new = route_df_new.rename(columns = {1:\"one\", 2:'two', 3:'three', 4:'four', 5:'five', 6:'six'})"
   ]
  },
  {
   "cell_type": "code",
   "execution_count": null,
   "id": "920528c9",
   "metadata": {},
   "outputs": [],
   "source": [
    "lm = smf.ols(\"six ~ one\", data=route_df_new).fit()\n",
    "lm.summary()"
   ]
  },
  {
   "cell_type": "markdown",
   "id": "a59fe28c",
   "metadata": {},
   "source": [
    "**On route 50 to downtown As you move from the first bus stop to the last one, the lateness tends to increase by approximately 0.7214 units or 43 seconds.**"
   ]
  },
  {
   "cell_type": "markdown",
   "id": "9e2231ef",
   "metadata": {},
   "source": [
    "   "
   ]
  },
  {
   "cell_type": "markdown",
   "id": "7c48750b",
   "metadata": {},
   "source": [
    "**ROUTE 50 FROM DOWNTOWN**"
   ]
  },
  {
   "cell_type": "code",
   "execution_count": null,
   "id": "d0416acb",
   "metadata": {},
   "outputs": [],
   "source": [
    "route_number = 50\n",
    "route_direction = 'FROM DOWNTOWN'\n",
    "\n",
    "route_df = wego.loc[\n",
    "    (wego['ROUTE_ABBR'] == route_number) & (wego['ROUTE_DIRECTION_NAME']== route_direction)\n",
    "]\n",
    "route_df = route_df.copy()"
   ]
  },
  {
   "cell_type": "code",
   "execution_count": null,
   "id": "c4aa46d8",
   "metadata": {},
   "outputs": [],
   "source": [
    "#changing the dtype to string so that i can concat with the \"CALENDAR ID\" column\n",
    "#changing the dtype to string so that i can concat with the \"ROUTE ID\" column\n",
    "\n",
    "route_df['TRIP_IDS'] = route_df['TRIP_ID'] + route_df['CALENDAR_ID']\n",
    "route_df['TRIP_ID'] = route_df['TRIP_ID'].astype(str)\n",
    "route_df['CALENDAR_ID'] = route_df['CALENDAR_ID'].astype(str)\n",
    "route_df['TRIP_IDS'] = route_df['TRIP_ID'] + route_df['CALENDAR_ID']"
   ]
  },
  {
   "cell_type": "code",
   "execution_count": null,
   "id": "a2164165",
   "metadata": {},
   "outputs": [],
   "source": [
    "#allows for each stop to be numbered in their respective route IDs\n",
    "route_df['row_num'] = 1\n",
    "route_df['stops'] = route_df.groupby('TRIP_IDS')['row_num'].cumsum()"
   ]
  },
  {
   "cell_type": "code",
   "execution_count": null,
   "id": "df9bf55e",
   "metadata": {},
   "outputs": [],
   "source": [
    "#creating a pivot table that will make the columns the stop #, the rows is each trip, and the values the adherence(amount of minutes late)\n",
    "route_df_pivot = route_df.pivot_table(values = 'ADHERENCE', index = 'TRIP_IDS', columns = 'stops')\n",
    "route_df_pivot"
   ]
  },
  {
   "cell_type": "code",
   "execution_count": null,
   "id": "b2c5b60c",
   "metadata": {},
   "outputs": [],
   "source": [
    "route_df_new = route_df_pivot.iloc[:, 0:6].dropna()\n",
    "route_df_new"
   ]
  },
  {
   "cell_type": "code",
   "execution_count": null,
   "id": "8888247d",
   "metadata": {},
   "outputs": [],
   "source": [
    "route_df_new[1].mean().round(2)"
   ]
  },
  {
   "cell_type": "code",
   "execution_count": null,
   "id": "745af1fe",
   "metadata": {},
   "outputs": [],
   "source": [
    "route_df_new[6].mean().round(2)"
   ]
  },
  {
   "cell_type": "code",
   "execution_count": null,
   "id": "7b02752c",
   "metadata": {},
   "outputs": [],
   "source": [
    "route_df_new[1].corr(route_df_new[6])"
   ]
  },
  {
   "cell_type": "code",
   "execution_count": null,
   "id": "6b8ea7b8",
   "metadata": {},
   "outputs": [],
   "source": [
    "route_df_new = route_df_new.rename(columns = {1:\"one\", 2:'two', 3:'three', 4:'four', 5:'five', 6:'six'})"
   ]
  },
  {
   "cell_type": "code",
   "execution_count": null,
   "id": "2b35ee0a",
   "metadata": {},
   "outputs": [],
   "source": [
    "lm = smf.ols(\"six ~ one\", data=route_df_new).fit()\n",
    "lm.summary()"
   ]
  },
  {
   "cell_type": "markdown",
   "id": "4a7744b2",
   "metadata": {},
   "source": [
    "**On route 50 from downtown As you move from the first bus stop to the last one, the lateness tends to increase by approximately .**"
   ]
  },
  {
   "cell_type": "markdown",
   "id": "0223a3a3",
   "metadata": {},
   "source": [
    "  "
   ]
  },
  {
   "cell_type": "markdown",
   "id": "aa0949aa",
   "metadata": {},
   "source": [
    "**ROUTE 52 TO DOWNTOWN**"
   ]
  },
  {
   "cell_type": "code",
   "execution_count": null,
   "id": "64c0228d",
   "metadata": {},
   "outputs": [],
   "source": [
    "route_number = 52\n",
    "route_direction = 'TO DOWNTOWN'\n",
    "\n",
    "route_df = wego.loc[\n",
    "    (wego['ROUTE_ABBR'] == route_number) & (wego['ROUTE_DIRECTION_NAME']== route_direction)\n",
    "]\n",
    "route_df = route_df.copy()"
   ]
  },
  {
   "cell_type": "code",
   "execution_count": null,
   "id": "9566b719",
   "metadata": {},
   "outputs": [],
   "source": [
    "#changing the dtype to string so that i can concat with the \"CALENDAR ID\" column\n",
    "#changing the dtype to string so that i can concat with the \"ROUTE ID\" column\n",
    "\n",
    "route_df['TRIP_IDS'] = route_df['TRIP_ID'] + route_df['CALENDAR_ID']\n",
    "route_df['TRIP_ID'] = route_df['TRIP_ID'].astype(str)\n",
    "route_df['CALENDAR_ID'] = route_df['CALENDAR_ID'].astype(str)\n",
    "route_df['TRIP_IDS'] = route_df['TRIP_ID'] + route_df['CALENDAR_ID']"
   ]
  },
  {
   "cell_type": "code",
   "execution_count": null,
   "id": "b6011dd1",
   "metadata": {},
   "outputs": [],
   "source": [
    "#allows for each stop to be numbered in their respective route IDs\n",
    "route_df['row_num'] = 1\n",
    "route_df['stops'] = route_df.groupby('TRIP_IDS')['row_num'].cumsum()"
   ]
  },
  {
   "cell_type": "code",
   "execution_count": null,
   "id": "201b21d6",
   "metadata": {},
   "outputs": [],
   "source": [
    "#creating a pivot table that will make the columns the stop #, the rows is each trip, and the values the adherence(amount of minutes late)\n",
    "route_df_pivot = route_df.pivot_table(values = 'ADHERENCE', index = 'TRIP_IDS', columns = 'stops')\n",
    "route_df_pivot"
   ]
  },
  {
   "cell_type": "code",
   "execution_count": null,
   "id": "24f787f3",
   "metadata": {},
   "outputs": [],
   "source": [
    "route_df_new = route_df_pivot.iloc[:, 0:5].dropna()\n",
    "route_df_new"
   ]
  },
  {
   "cell_type": "code",
   "execution_count": null,
   "id": "72ac22c3",
   "metadata": {},
   "outputs": [],
   "source": [
    "route_df_new[1].mean().round(2)"
   ]
  },
  {
   "cell_type": "code",
   "execution_count": null,
   "id": "f2c3ad92",
   "metadata": {},
   "outputs": [],
   "source": [
    "route_df_new[5].mean().round(2)"
   ]
  },
  {
   "cell_type": "code",
   "execution_count": null,
   "id": "6096b505",
   "metadata": {},
   "outputs": [],
   "source": [
    "route_df_new[1].corr(route_df_new[5])"
   ]
  },
  {
   "cell_type": "code",
   "execution_count": null,
   "id": "7a3d6522",
   "metadata": {},
   "outputs": [],
   "source": [
    "route_df_new = route_df_new.rename(columns = {1:\"one\", 2:'two', 3:'three', 4:'four', 5:'five'})"
   ]
  },
  {
   "cell_type": "code",
   "execution_count": null,
   "id": "d066ef06",
   "metadata": {},
   "outputs": [],
   "source": [
    "lm = smf.ols(\"five ~ one\", data=route_df_new).fit()\n",
    "lm.summary()"
   ]
  },
  {
   "cell_type": "code",
   "execution_count": null,
   "id": "db24dd04",
   "metadata": {},
   "outputs": [],
   "source": [
    "(-1) - (-0.5048)/(0.8862)"
   ]
  },
  {
   "cell_type": "markdown",
   "id": "93416aa6",
   "metadata": {},
   "source": [
    "**On route 52 to downtown As you move from the first bus stop to the last one, the lateness tends to increase by approximately .**"
   ]
  },
  {
   "cell_type": "markdown",
   "id": "6b06ac2c",
   "metadata": {},
   "source": [
    "     "
   ]
  },
  {
   "cell_type": "markdown",
   "id": "aa428876",
   "metadata": {},
   "source": [
    "**ROUTE 52 FROM DOWNTOWN**"
   ]
  },
  {
   "cell_type": "code",
   "execution_count": null,
   "id": "75db45d3",
   "metadata": {},
   "outputs": [],
   "source": [
    "route_number = 52\n",
    "route_direction = 'FROM DOWNTOWN'\n",
    "\n",
    "route_df = wego.loc[\n",
    "    (wego['ROUTE_ABBR'] == route_number) & (wego['ROUTE_DIRECTION_NAME']== route_direction)\n",
    "]\n",
    "route_df = route_df.copy()"
   ]
  },
  {
   "cell_type": "code",
   "execution_count": null,
   "id": "b00bd806",
   "metadata": {},
   "outputs": [],
   "source": [
    "#changing the dtype to string so that i can concat with the \"CALENDAR ID\" column\n",
    "#changing the dtype to string so that i can concat with the \"ROUTE ID\" column\n",
    "\n",
    "route_df['TRIP_IDS'] = route_df['TRIP_ID'] + route_df['CALENDAR_ID']\n",
    "route_df['TRIP_ID'] = route_df['TRIP_ID'].astype(str)\n",
    "route_df['CALENDAR_ID'] = route_df['CALENDAR_ID'].astype(str)\n",
    "route_df['TRIP_IDS'] = route_df['TRIP_ID'] + route_df['CALENDAR_ID']"
   ]
  },
  {
   "cell_type": "code",
   "execution_count": null,
   "id": "20c3caac",
   "metadata": {},
   "outputs": [],
   "source": [
    "#allows for each stop to be numbered in their respective route IDs\n",
    "route_df['row_num'] = 1\n",
    "route_df['stops'] = route_df.groupby('TRIP_IDS')['row_num'].cumsum()"
   ]
  },
  {
   "cell_type": "code",
   "execution_count": null,
   "id": "c8c270ce",
   "metadata": {},
   "outputs": [],
   "source": [
    "#creating a pivot table that will make the columns the stop #, the rows is each trip, and the values the adherence(amount of minutes late)\n",
    "route_df_pivot = route_df.pivot_table(values = 'ADHERENCE', index = 'TRIP_IDS', columns = 'stops')\n",
    "route_df_pivot"
   ]
  },
  {
   "cell_type": "code",
   "execution_count": null,
   "id": "8de7d5b4",
   "metadata": {},
   "outputs": [],
   "source": [
    "route_df_new = route_df_pivot.iloc[:, 0:5].dropna()\n",
    "route_df_new"
   ]
  },
  {
   "cell_type": "code",
   "execution_count": null,
   "id": "e3767485",
   "metadata": {},
   "outputs": [],
   "source": [
    "route_df_new[1].mean().round(2)"
   ]
  },
  {
   "cell_type": "code",
   "execution_count": null,
   "id": "45187867",
   "metadata": {},
   "outputs": [],
   "source": [
    "route_df_new[5].mean().round(2)"
   ]
  },
  {
   "cell_type": "code",
   "execution_count": null,
   "id": "9c54bd74",
   "metadata": {},
   "outputs": [],
   "source": [
    "route_df_new[1].corr(route_df_new[5])"
   ]
  },
  {
   "cell_type": "code",
   "execution_count": null,
   "id": "10ccee72",
   "metadata": {},
   "outputs": [],
   "source": [
    "route_df_new = route_df_new.rename(columns = {1:\"one\", 2:'two', 3:'three', 4:'four', 5:'five'})"
   ]
  },
  {
   "cell_type": "code",
   "execution_count": null,
   "id": "0931e08a",
   "metadata": {},
   "outputs": [],
   "source": [
    "lm = smf.ols(\"five ~ one\", data=route_df_new).fit()\n",
    "lm.summary()"
   ]
  },
  {
   "cell_type": "markdown",
   "id": "1114b062",
   "metadata": {},
   "source": [
    "**On route 52 from downtown As you move from the first bus stop to the last one, the lateness tends to increase by approximately 0.8895  or 53 .**"
   ]
  },
  {
   "cell_type": "code",
   "execution_count": null,
   "id": "8505c373",
   "metadata": {},
   "outputs": [],
   "source": [
    "0.8895*(-2)-1.2117"
   ]
  },
  {
   "cell_type": "code",
   "execution_count": null,
   "id": "654ac27a",
   "metadata": {},
   "outputs": [],
   "source": [
    "0.8895*(2)-1.2117"
   ]
  },
  {
   "cell_type": "markdown",
   "id": "990ba868",
   "metadata": {},
   "source": [
    "    "
   ]
  },
  {
   "cell_type": "markdown",
   "id": "7a2ab8cc",
   "metadata": {},
   "source": [
    "**ROUTE 55 TO DOWNTOWN**"
   ]
  },
  {
   "cell_type": "code",
   "execution_count": null,
   "id": "09999b71",
   "metadata": {},
   "outputs": [],
   "source": [
    "route_number = 55\n",
    "route_direction = 'TO DOWNTOWN'\n",
    "\n",
    "route_df = wego.loc[\n",
    "    (wego['ROUTE_ABBR'] == route_number) & (wego['ROUTE_DIRECTION_NAME']== route_direction)\n",
    "]\n",
    "route_df = route_df.copy()"
   ]
  },
  {
   "cell_type": "code",
   "execution_count": null,
   "id": "2064adae",
   "metadata": {},
   "outputs": [],
   "source": [
    "#changing the dtype to string so that i can concat with the \"CALENDAR ID\" column\n",
    "#changing the dtype to string so that i can concat with the \"ROUTE ID\" column\n",
    "\n",
    "route_df['TRIP_IDS'] = route_df['TRIP_ID'] + route_df['CALENDAR_ID']\n",
    "route_df['TRIP_ID'] = route_df['TRIP_ID'].astype(str)\n",
    "route_df['CALENDAR_ID'] = route_df['CALENDAR_ID'].astype(str)\n",
    "route_df['TRIP_IDS'] = route_df['TRIP_ID'] + route_df['CALENDAR_ID']"
   ]
  },
  {
   "cell_type": "code",
   "execution_count": null,
   "id": "90c5c386",
   "metadata": {},
   "outputs": [],
   "source": [
    "#allows for each stop to be numbered in their respective route IDs\n",
    "route_df['row_num'] = 1\n",
    "route_df['stops'] = route_df.groupby('TRIP_IDS')['row_num'].cumsum()"
   ]
  },
  {
   "cell_type": "code",
   "execution_count": null,
   "id": "6665091c",
   "metadata": {},
   "outputs": [],
   "source": [
    "#creating a pivot table that will make the columns the stop #, the rows is each trip, and the values the adherence(amount of minutes late)\n",
    "route_df_pivot = route_df.pivot_table(values = 'ADHERENCE', index = 'TRIP_IDS', columns = 'stops')\n",
    "route_df_pivot"
   ]
  },
  {
   "cell_type": "code",
   "execution_count": null,
   "id": "912cb080",
   "metadata": {},
   "outputs": [],
   "source": [
    "route_df_new = route_df_pivot.iloc[:, 0:6].dropna()\n",
    "route_df_new"
   ]
  },
  {
   "cell_type": "code",
   "execution_count": null,
   "id": "0c025883",
   "metadata": {},
   "outputs": [],
   "source": [
    "route_df_new[1].mean().round(2)"
   ]
  },
  {
   "cell_type": "code",
   "execution_count": null,
   "id": "50e67b35",
   "metadata": {},
   "outputs": [],
   "source": [
    "route_df_new[6].mean().round(2)"
   ]
  },
  {
   "cell_type": "code",
   "execution_count": null,
   "id": "3959e142",
   "metadata": {},
   "outputs": [],
   "source": [
    "route_df_new[1].corr(route_df_new[6])"
   ]
  },
  {
   "cell_type": "code",
   "execution_count": null,
   "id": "f5504096",
   "metadata": {},
   "outputs": [],
   "source": [
    "route_df_new = route_df_new.rename(columns = {1:\"one\", 2:'two', 3:'three', 4:'four', 5:'five', 6:'six'})"
   ]
  },
  {
   "cell_type": "code",
   "execution_count": null,
   "id": "7f308e51",
   "metadata": {},
   "outputs": [],
   "source": [
    "lm = smf.ols(\"six ~ one\", data=route_df_new).fit()\n",
    "lm.summary()"
   ]
  },
  {
   "cell_type": "markdown",
   "id": "85769d23",
   "metadata": {},
   "source": [
    "**On route 55 to downtown As you move from the first bus stop to the last one, the lateness tends to increase by approximately 0.8993 units or 53 seconds.**"
   ]
  },
  {
   "cell_type": "markdown",
   "id": "1f7439a5",
   "metadata": {},
   "source": [
    "     "
   ]
  },
  {
   "cell_type": "markdown",
   "id": "4fa4c86c",
   "metadata": {},
   "source": [
    "**ROUTE 55 FROM DOWNTOWN**"
   ]
  },
  {
   "cell_type": "code",
   "execution_count": null,
   "id": "2c95c8db",
   "metadata": {},
   "outputs": [],
   "source": [
    "route_number = 55\n",
    "route_direction = 'FROM DOWNTOWN'\n",
    "\n",
    "route_df = wego.loc[\n",
    "    (wego['ROUTE_ABBR'] == route_number) & (wego['ROUTE_DIRECTION_NAME']== route_direction)\n",
    "]\n",
    "route_df = route_df.copy()"
   ]
  },
  {
   "cell_type": "code",
   "execution_count": null,
   "id": "43ef2c52",
   "metadata": {},
   "outputs": [],
   "source": [
    "#changing the dtype to string so that i can concat with the \"CALENDAR ID\" column\n",
    "#changing the dtype to string so that i can concat with the \"ROUTE ID\" column\n",
    "\n",
    "route_df['TRIP_IDS'] = route_df['TRIP_ID'] + route_df['CALENDAR_ID']\n",
    "route_df['TRIP_ID'] = route_df['TRIP_ID'].astype(str)\n",
    "route_df['CALENDAR_ID'] = route_df['CALENDAR_ID'].astype(str)\n",
    "route_df['TRIP_IDS'] = route_df['TRIP_ID'] + route_df['CALENDAR_ID']"
   ]
  },
  {
   "cell_type": "code",
   "execution_count": null,
   "id": "06cda80b",
   "metadata": {},
   "outputs": [],
   "source": [
    "#allows for each stop to be numbered in their respective route IDs\n",
    "route_df['row_num'] = 1\n",
    "route_df['stops'] = route_df.groupby('TRIP_IDS')['row_num'].cumsum()"
   ]
  },
  {
   "cell_type": "code",
   "execution_count": null,
   "id": "f9e802bb",
   "metadata": {},
   "outputs": [],
   "source": [
    "#creating a pivot table that will make the columns the stop #, the rows is each trip, and the values the adherence(amount of minutes late)\n",
    "route_df_pivot = route_df.pivot_table(values = 'ADHERENCE', index = 'TRIP_IDS', columns = 'stops')\n",
    "route_df_pivot"
   ]
  },
  {
   "cell_type": "code",
   "execution_count": null,
   "id": "18bfe3e8",
   "metadata": {},
   "outputs": [],
   "source": [
    "route_df_new = route_df_pivot.iloc[:, 0:6].dropna()\n",
    "route_df_new"
   ]
  },
  {
   "cell_type": "code",
   "execution_count": null,
   "id": "4206c689",
   "metadata": {},
   "outputs": [],
   "source": [
    "route_df_new[1].mean().round(2)"
   ]
  },
  {
   "cell_type": "code",
   "execution_count": null,
   "id": "e71ee428",
   "metadata": {},
   "outputs": [],
   "source": [
    "route_df_new[6].mean().round(2)"
   ]
  },
  {
   "cell_type": "code",
   "execution_count": null,
   "id": "6661c1b5",
   "metadata": {},
   "outputs": [],
   "source": [
    "route_df_new[1].corr(route_df_new[6])"
   ]
  },
  {
   "cell_type": "code",
   "execution_count": null,
   "id": "33a22e3a",
   "metadata": {},
   "outputs": [],
   "source": [
    "route_df_new = route_df_new.rename(columns = {1:\"one\", 2:'two', 3:'three', 4:'four', 5:'five', 6:'six'})"
   ]
  },
  {
   "cell_type": "code",
   "execution_count": null,
   "id": "ade43ae7",
   "metadata": {},
   "outputs": [],
   "source": [
    "lm = smf.ols(\"six ~ one\", data=route_df_new).fit()\n",
    "lm.summary()"
   ]
  },
  {
   "cell_type": "code",
   "execution_count": null,
   "id": "e8035d86",
   "metadata": {},
   "outputs": [],
   "source": [
    "(-1) - (-1.5983)/(1.0783)"
   ]
  },
  {
   "cell_type": "markdown",
   "id": "15d2fdb1",
   "metadata": {},
   "source": [
    "**On route 55 from downtown As you move from the first bus stop to the last one, the lateness tends to increase by approximately 1.0783 units or 1 minute.**"
   ]
  },
  {
   "cell_type": "markdown",
   "id": "2dd67474",
   "metadata": {},
   "source": [
    "     "
   ]
  },
  {
   "cell_type": "markdown",
   "id": "4ca908f6",
   "metadata": {},
   "source": [
    "**ROUTE 56 TO DOWNTOWN**"
   ]
  },
  {
   "cell_type": "code",
   "execution_count": null,
   "id": "bd6558a0",
   "metadata": {},
   "outputs": [],
   "source": [
    "route_number = 56\n",
    "route_direction = 'TO DOWNTOWN'\n",
    "\n",
    "route_df = wego.loc[\n",
    "    (wego['ROUTE_ABBR'] == route_number) & (wego['ROUTE_DIRECTION_NAME']== route_direction)\n",
    "]\n",
    "route_df = route_df.copy()"
   ]
  },
  {
   "cell_type": "code",
   "execution_count": null,
   "id": "eafd3e2c",
   "metadata": {},
   "outputs": [],
   "source": [
    "#changing the dtype to string so that i can concat with the \"CALENDAR ID\" column\n",
    "#changing the dtype to string so that i can concat with the \"ROUTE ID\" column\n",
    "\n",
    "route_df['TRIP_IDS'] = route_df['TRIP_ID'] + route_df['CALENDAR_ID']\n",
    "route_df['TRIP_ID'] = route_df['TRIP_ID'].astype(str)\n",
    "route_df['CALENDAR_ID'] = route_df['CALENDAR_ID'].astype(str)\n",
    "route_df['TRIP_IDS'] = route_df['TRIP_ID'] + route_df['CALENDAR_ID']"
   ]
  },
  {
   "cell_type": "code",
   "execution_count": null,
   "id": "6fe3ab6d",
   "metadata": {},
   "outputs": [],
   "source": [
    "#allows for each stop to be numbered in their respective route IDs\n",
    "route_df['row_num'] = 1\n",
    "route_df['stops'] = route_df.groupby('TRIP_IDS')['row_num'].cumsum()"
   ]
  },
  {
   "cell_type": "code",
   "execution_count": null,
   "id": "07a14544",
   "metadata": {},
   "outputs": [],
   "source": [
    "#creating a pivot table that will make the columns the stop #, the rows is each trip, and the values the adherence(amount of minutes late)\n",
    "route_df_pivot = route_df.pivot_table(values = 'ADHERENCE', index = 'TRIP_IDS', columns = 'stops')\n",
    "route_df_pivot"
   ]
  },
  {
   "cell_type": "code",
   "execution_count": null,
   "id": "9b8aa074",
   "metadata": {},
   "outputs": [],
   "source": [
    "route_df_new = route_df_pivot.iloc[:, 0:5].dropna()\n",
    "route_df_new"
   ]
  },
  {
   "cell_type": "code",
   "execution_count": null,
   "id": "e810a25f",
   "metadata": {},
   "outputs": [],
   "source": [
    "route_df_new[1].mean().round(2)"
   ]
  },
  {
   "cell_type": "code",
   "execution_count": null,
   "id": "0db09eec",
   "metadata": {},
   "outputs": [],
   "source": [
    "route_df_new[5].mean().round(2)"
   ]
  },
  {
   "cell_type": "code",
   "execution_count": null,
   "id": "80c3327d",
   "metadata": {},
   "outputs": [],
   "source": [
    "route_df_new[1].corr(route_df_new[5])"
   ]
  },
  {
   "cell_type": "code",
   "execution_count": null,
   "id": "d42420ca",
   "metadata": {},
   "outputs": [],
   "source": [
    "route_df_new = route_df_new.rename(columns = {1:\"one\", 2:'two', 3:'three', 4:'four', 5:'five'})"
   ]
  },
  {
   "cell_type": "code",
   "execution_count": null,
   "id": "26e29788",
   "metadata": {},
   "outputs": [],
   "source": [
    "lm = smf.ols(\"five ~ one\", data=route_df_new).fit()\n",
    "lm.summary()"
   ]
  },
  {
   "cell_type": "markdown",
   "id": "ff29b903",
   "metadata": {},
   "source": [
    "**On route 56 to downtown As you move from the first bus stop to the last one, the lateness tends to increase by approximately 0.2590 units or 15 seconds.**"
   ]
  },
  {
   "cell_type": "markdown",
   "id": "bbf70ba6",
   "metadata": {},
   "source": [
    "     "
   ]
  },
  {
   "cell_type": "markdown",
   "id": "90848681",
   "metadata": {},
   "source": [
    "**ROUTE 56 FROM DOWNTOWN**"
   ]
  },
  {
   "cell_type": "code",
   "execution_count": null,
   "id": "ab481b30",
   "metadata": {},
   "outputs": [],
   "source": [
    "route_number = 56\n",
    "route_direction = 'FROM DOWNTOWN'\n",
    "\n",
    "route_df = wego.loc[\n",
    "    (wego['ROUTE_ABBR'] == route_number) & (wego['ROUTE_DIRECTION_NAME']== route_direction)\n",
    "]\n",
    "route_df = route_df.copy()"
   ]
  },
  {
   "cell_type": "code",
   "execution_count": null,
   "id": "dd8bf165",
   "metadata": {},
   "outputs": [],
   "source": [
    "#changing the dtype to string so that i can concat with the \"CALENDAR ID\" column\n",
    "#changing the dtype to string so that i can concat with the \"ROUTE ID\" column\n",
    "\n",
    "route_df['TRIP_IDS'] = route_df['TRIP_ID'] + route_df['CALENDAR_ID']\n",
    "route_df['TRIP_ID'] = route_df['TRIP_ID'].astype(str)\n",
    "route_df['CALENDAR_ID'] = route_df['CALENDAR_ID'].astype(str)\n",
    "route_df['TRIP_IDS'] = route_df['TRIP_ID'] + route_df['CALENDAR_ID']"
   ]
  },
  {
   "cell_type": "code",
   "execution_count": null,
   "id": "9e16d9ab",
   "metadata": {},
   "outputs": [],
   "source": [
    "#allows for each stop to be numbered in their respective route IDs\n",
    "route_df['row_num'] = 1\n",
    "route_df['stops'] = route_df.groupby('TRIP_IDS')['row_num'].cumsum()"
   ]
  },
  {
   "cell_type": "code",
   "execution_count": null,
   "id": "315e2b6c",
   "metadata": {},
   "outputs": [],
   "source": [
    "#creating a pivot table that will make the columns the stop #, the rows is each trip, and the values the adherence(amount of minutes late)\n",
    "route_df_pivot = route_df.pivot_table(values = 'ADHERENCE', index = 'TRIP_IDS', columns = 'stops')\n",
    "route_df_pivot"
   ]
  },
  {
   "cell_type": "code",
   "execution_count": null,
   "id": "1477466d",
   "metadata": {},
   "outputs": [],
   "source": [
    "route_df_new = route_df_pivot.iloc[:, 0:6].dropna()\n",
    "route_df_new"
   ]
  },
  {
   "cell_type": "code",
   "execution_count": null,
   "id": "a9383389",
   "metadata": {},
   "outputs": [],
   "source": [
    "route_df_new[1].mean().round(2)"
   ]
  },
  {
   "cell_type": "code",
   "execution_count": null,
   "id": "61b6df1b",
   "metadata": {},
   "outputs": [],
   "source": [
    "route_df_new[6].mean().round(2)"
   ]
  },
  {
   "cell_type": "code",
   "execution_count": null,
   "id": "d09a3baf",
   "metadata": {},
   "outputs": [],
   "source": [
    "route_df_new[1].corr(route_df_new[6])"
   ]
  },
  {
   "cell_type": "code",
   "execution_count": null,
   "id": "8946ed82",
   "metadata": {},
   "outputs": [],
   "source": [
    "route_df_new = route_df_new.rename(columns = {1:\"one\", 2:'two', 3:'three', 4:'four', 5:'five', 6:'six'})"
   ]
  },
  {
   "cell_type": "code",
   "execution_count": null,
   "id": "b4dd242a",
   "metadata": {},
   "outputs": [],
   "source": [
    "lm = smf.ols(\"six ~ one\", data=route_df_new).fit()\n",
    "lm.summary()"
   ]
  },
  {
   "cell_type": "code",
   "execution_count": null,
   "id": "0dbabd28",
   "metadata": {},
   "outputs": [],
   "source": [
    "0.3739"
   ]
  },
  {
   "cell_type": "markdown",
   "id": "fb6f9b5d",
   "metadata": {},
   "source": [
    "**On route 56 from downtown As you move from the first bus stop to the last one, the lateness tends to increase by approximately 0.3739 units or 22 seconds.**"
   ]
  },
  {
   "cell_type": "code",
   "execution_count": null,
   "id": "458e048b",
   "metadata": {},
   "outputs": [],
   "source": [
    "wego[wego['ROUTE_ABBR']==55].head(20)"
   ]
  },
  {
   "cell_type": "code",
   "execution_count": null,
   "id": "974c195f",
   "metadata": {},
   "outputs": [],
   "source": [
    "route_df_new"
   ]
  },
  {
   "cell_type": "code",
   "execution_count": null,
   "id": "623fd5d3",
   "metadata": {},
   "outputs": [],
   "source": []
  }
 ],
 "metadata": {
  "kernelspec": {
   "display_name": "Python 3 (ipykernel)",
   "language": "python",
   "name": "python3"
  },
  "language_info": {
   "codemirror_mode": {
    "name": "ipython",
    "version": 3
   },
   "file_extension": ".py",
   "mimetype": "text/x-python",
   "name": "python",
   "nbconvert_exporter": "python",
   "pygments_lexer": "ipython3",
   "version": "3.10.9"
  }
 },
 "nbformat": 4,
 "nbformat_minor": 5
}
