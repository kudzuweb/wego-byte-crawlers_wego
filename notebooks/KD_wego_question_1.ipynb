{
 "cells": [
  {
   "cell_type": "code",
   "execution_count": 1,
   "id": "23621c27",
   "metadata": {},
   "outputs": [],
   "source": [
    "import pandas as pd\n",
    "pd.set_option(\"display.max_columns\", 100)\n",
    "import numpy as np\n",
    "import statsmodels.api as sm\n",
    "import statsmodels.formula.api as smf\n",
    "import matplotlib.pyplot as plt\n",
    "import seaborn as sns"
   ]
  },
  {
   "cell_type": "code",
   "execution_count": 2,
   "id": "bc42410f",
   "metadata": {},
   "outputs": [],
   "source": [
    "wego = pd.read_csv('../data/headway_data_clean.csv')"
   ]
  },
  {
   "cell_type": "code",
   "execution_count": 3,
   "id": "59ea4f7b",
   "metadata": {},
   "outputs": [],
   "source": [
    "# convert times to datetime64 objects, check dtype to confirm\n",
    "wego['SCHEDULED_TIME'] = pd.to_datetime(wego['SCHEDULED_TIME'], format = '%Y-%m-%d %H:%M:%S')\n",
    "wego['ACTUAL_ARRIVAL_TIME'] = pd.to_datetime(wego['ACTUAL_ARRIVAL_TIME'], format = '%Y-%m-%d %H:%M:%S')\n",
    "wego['ACTUAL_DEPARTURE_TIME'] = pd.to_datetime(wego['ACTUAL_DEPARTURE_TIME'], format = '%Y-%m-%d %H:%M:%S')\n",
    "wego['DATE'] = pd.to_datetime(wego['DATE'], format = \"%Y/%m/%d\")\n"
   ]
  },
  {
   "cell_type": "code",
   "execution_count": 4,
   "id": "9c0256e7",
   "metadata": {
    "scrolled": true
   },
   "outputs": [],
   "source": [
    "#Create a column that gives each day of the week its on variable\n",
    "wego['DAYS_OF_THE_WEEK'] = wego['DATE'].dt.weekday\n"
   ]
  },
  {
   "cell_type": "markdown",
   "id": "6018236a",
   "metadata": {},
   "source": [
    "**Question1: How much impact does being late or too spaced out at the first stop have downstream**\n",
    "\n",
    "\n",
    "\n",
    "*Does being late to start a trip or too spaced out between buses have an affect on the remainder of the trip?*"
   ]
  },
  {
   "cell_type": "code",
   "execution_count": 5,
   "id": "5244b460",
   "metadata": {},
   "outputs": [],
   "source": [
    "#dropping all nan values in the adherence column\n",
    "wego = wego.dropna(subset = 'ADHERENCE')"
   ]
  },
  {
   "cell_type": "code",
   "execution_count": 6,
   "id": "347c6496",
   "metadata": {},
   "outputs": [],
   "source": [
    "route_3_to_downtown = wego.loc[\n",
    "    (wego['ROUTE_ABBR'] == 3) & (wego['ROUTE_DIRECTION_NAME']== 'TO DOWNTOWN')\n",
    "]"
   ]
  },
  {
   "cell_type": "code",
   "execution_count": 7,
   "id": "5c38a431",
   "metadata": {},
   "outputs": [],
   "source": [
    "route_3_to_downtown = route_3_to_downtown.copy()"
   ]
  },
  {
   "cell_type": "code",
   "execution_count": 8,
   "id": "e77b7bc5",
   "metadata": {},
   "outputs": [],
   "source": [
    "#changing the dtype to string so that i can concat with the \"CALENDAR ID\" column\n",
    "#changing the dtype to string so that i can concat with the \"ROUTE ID\" column\n",
    "route_3_to_downtown['TRIP_ID'] = route_3_to_downtown['TRIP_ID'].astype(str)\n",
    "route_3_to_downtown['CALENDAR_ID'] = route_3_to_downtown['CALENDAR_ID'].astype(str)"
   ]
  },
  {
   "cell_type": "code",
   "execution_count": 9,
   "id": "4d0521a6",
   "metadata": {},
   "outputs": [],
   "source": [
    "#creating a column that concats the two columns\n",
    "route_3_to_downtown['TRIP_IDS'] = route_3_to_downtown['TRIP_ID'] + route_3_to_downtown['CALENDAR_ID']"
   ]
  },
  {
   "cell_type": "code",
   "execution_count": 10,
   "id": "ed51f7d0",
   "metadata": {},
   "outputs": [],
   "source": [
    "#allows for each stop to be numbered in their respective route IDs\n",
    "route_3_to_downtown['row_num'] = 1\n",
    "route_3_to_downtown['stops'] = route_3_to_downtown.groupby('TRIP_IDS')['row_num'].cumsum()"
   ]
  },
  {
   "cell_type": "code",
   "execution_count": 40,
   "id": "d018c48b",
   "metadata": {},
   "outputs": [],
   "source": [
    "#creating a pivot table that will make the columns the stop #, the rows is each trip, and the values the adherence(amount of minutes late)\n",
    "route_3_to_downtown_pivot = route_3_to_downtown.pivot_table(values = 'ADHERENCE', index = 'TRIP_IDS', columns = 'stops')"
   ]
  },
  {
   "cell_type": "code",
   "execution_count": 12,
   "id": "3f9561d1",
   "metadata": {},
   "outputs": [],
   "source": [
    "#.reset_index(drop = True)"
   ]
  },
  {
   "cell_type": "code",
   "execution_count": 41,
   "id": "7cf7760f",
   "metadata": {},
   "outputs": [
    {
     "data": {
      "text/html": [
       "<div>\n",
       "<style scoped>\n",
       "    .dataframe tbody tr th:only-of-type {\n",
       "        vertical-align: middle;\n",
       "    }\n",
       "\n",
       "    .dataframe tbody tr th {\n",
       "        vertical-align: top;\n",
       "    }\n",
       "\n",
       "    .dataframe thead th {\n",
       "        text-align: right;\n",
       "    }\n",
       "</style>\n",
       "<table border=\"1\" class=\"dataframe\">\n",
       "  <thead>\n",
       "    <tr style=\"text-align: right;\">\n",
       "      <th>stops</th>\n",
       "      <th>1</th>\n",
       "      <th>2</th>\n",
       "      <th>3</th>\n",
       "      <th>4</th>\n",
       "      <th>5</th>\n",
       "      <th>6</th>\n",
       "      <th>7</th>\n",
       "      <th>8</th>\n",
       "      <th>9</th>\n",
       "      <th>10</th>\n",
       "    </tr>\n",
       "    <tr>\n",
       "      <th>TRIP_IDS</th>\n",
       "      <th></th>\n",
       "      <th></th>\n",
       "      <th></th>\n",
       "      <th></th>\n",
       "      <th></th>\n",
       "      <th></th>\n",
       "      <th></th>\n",
       "      <th></th>\n",
       "      <th></th>\n",
       "      <th></th>\n",
       "    </tr>\n",
       "  </thead>\n",
       "  <tbody>\n",
       "    <tr>\n",
       "      <th>346048120230801</th>\n",
       "      <td>-1.300000</td>\n",
       "      <td>-0.083333</td>\n",
       "      <td>0.416666</td>\n",
       "      <td>1.000000</td>\n",
       "      <td>4.100000</td>\n",
       "      <td>NaN</td>\n",
       "      <td>NaN</td>\n",
       "      <td>NaN</td>\n",
       "      <td>NaN</td>\n",
       "      <td>NaN</td>\n",
       "    </tr>\n",
       "    <tr>\n",
       "      <th>346048120230802</th>\n",
       "      <td>-1.150000</td>\n",
       "      <td>-0.750000</td>\n",
       "      <td>-0.716666</td>\n",
       "      <td>0.150000</td>\n",
       "      <td>0.016666</td>\n",
       "      <td>NaN</td>\n",
       "      <td>NaN</td>\n",
       "      <td>NaN</td>\n",
       "      <td>NaN</td>\n",
       "      <td>NaN</td>\n",
       "    </tr>\n",
       "    <tr>\n",
       "      <th>346048120230803</th>\n",
       "      <td>-18.716666</td>\n",
       "      <td>NaN</td>\n",
       "      <td>NaN</td>\n",
       "      <td>NaN</td>\n",
       "      <td>NaN</td>\n",
       "      <td>NaN</td>\n",
       "      <td>NaN</td>\n",
       "      <td>NaN</td>\n",
       "      <td>NaN</td>\n",
       "      <td>NaN</td>\n",
       "    </tr>\n",
       "    <tr>\n",
       "      <th>346050120230801</th>\n",
       "      <td>-3.933333</td>\n",
       "      <td>-2.666666</td>\n",
       "      <td>-1.950000</td>\n",
       "      <td>-1.450000</td>\n",
       "      <td>1.533333</td>\n",
       "      <td>NaN</td>\n",
       "      <td>NaN</td>\n",
       "      <td>NaN</td>\n",
       "      <td>NaN</td>\n",
       "      <td>NaN</td>\n",
       "    </tr>\n",
       "    <tr>\n",
       "      <th>346050120230802</th>\n",
       "      <td>0.966666</td>\n",
       "      <td>-2.150000</td>\n",
       "      <td>-1.650000</td>\n",
       "      <td>-1.683333</td>\n",
       "      <td>-0.033333</td>\n",
       "      <td>NaN</td>\n",
       "      <td>NaN</td>\n",
       "      <td>NaN</td>\n",
       "      <td>NaN</td>\n",
       "      <td>NaN</td>\n",
       "    </tr>\n",
       "    <tr>\n",
       "      <th>...</th>\n",
       "      <td>...</td>\n",
       "      <td>...</td>\n",
       "      <td>...</td>\n",
       "      <td>...</td>\n",
       "      <td>...</td>\n",
       "      <td>...</td>\n",
       "      <td>...</td>\n",
       "      <td>...</td>\n",
       "      <td>...</td>\n",
       "      <td>...</td>\n",
       "    </tr>\n",
       "    <tr>\n",
       "      <th>351240120230925</th>\n",
       "      <td>-1.383333</td>\n",
       "      <td>-2.033333</td>\n",
       "      <td>0.616666</td>\n",
       "      <td>-1.833333</td>\n",
       "      <td>-5.600000</td>\n",
       "      <td>-1.300000</td>\n",
       "      <td>NaN</td>\n",
       "      <td>NaN</td>\n",
       "      <td>NaN</td>\n",
       "      <td>NaN</td>\n",
       "    </tr>\n",
       "    <tr>\n",
       "      <th>351240120230926</th>\n",
       "      <td>-5.850000</td>\n",
       "      <td>-3.483333</td>\n",
       "      <td>-2.033333</td>\n",
       "      <td>-0.666666</td>\n",
       "      <td>-0.133333</td>\n",
       "      <td>2.666666</td>\n",
       "      <td>NaN</td>\n",
       "      <td>NaN</td>\n",
       "      <td>NaN</td>\n",
       "      <td>NaN</td>\n",
       "    </tr>\n",
       "    <tr>\n",
       "      <th>351240120230927</th>\n",
       "      <td>-2.183333</td>\n",
       "      <td>-0.600000</td>\n",
       "      <td>-1.283333</td>\n",
       "      <td>-0.583333</td>\n",
       "      <td>-1.733333</td>\n",
       "      <td>-1.250000</td>\n",
       "      <td>NaN</td>\n",
       "      <td>NaN</td>\n",
       "      <td>NaN</td>\n",
       "      <td>NaN</td>\n",
       "    </tr>\n",
       "    <tr>\n",
       "      <th>351240120230928</th>\n",
       "      <td>-1.333333</td>\n",
       "      <td>-1.150000</td>\n",
       "      <td>-1.166666</td>\n",
       "      <td>-0.233333</td>\n",
       "      <td>-0.666666</td>\n",
       "      <td>-2.983333</td>\n",
       "      <td>NaN</td>\n",
       "      <td>NaN</td>\n",
       "      <td>NaN</td>\n",
       "      <td>NaN</td>\n",
       "    </tr>\n",
       "    <tr>\n",
       "      <th>351240120230929</th>\n",
       "      <td>-3.600000</td>\n",
       "      <td>-3.466666</td>\n",
       "      <td>-2.083333</td>\n",
       "      <td>-1.000000</td>\n",
       "      <td>-0.200000</td>\n",
       "      <td>0.300000</td>\n",
       "      <td>NaN</td>\n",
       "      <td>NaN</td>\n",
       "      <td>NaN</td>\n",
       "      <td>NaN</td>\n",
       "    </tr>\n",
       "  </tbody>\n",
       "</table>\n",
       "<p>4203 rows × 10 columns</p>\n",
       "</div>"
      ],
      "text/plain": [
       "stops                   1         2         3         4         5         6   \\\n",
       "TRIP_IDS                                                                       \n",
       "346048120230801  -1.300000 -0.083333  0.416666  1.000000  4.100000       NaN   \n",
       "346048120230802  -1.150000 -0.750000 -0.716666  0.150000  0.016666       NaN   \n",
       "346048120230803 -18.716666       NaN       NaN       NaN       NaN       NaN   \n",
       "346050120230801  -3.933333 -2.666666 -1.950000 -1.450000  1.533333       NaN   \n",
       "346050120230802   0.966666 -2.150000 -1.650000 -1.683333 -0.033333       NaN   \n",
       "...                    ...       ...       ...       ...       ...       ...   \n",
       "351240120230925  -1.383333 -2.033333  0.616666 -1.833333 -5.600000 -1.300000   \n",
       "351240120230926  -5.850000 -3.483333 -2.033333 -0.666666 -0.133333  2.666666   \n",
       "351240120230927  -2.183333 -0.600000 -1.283333 -0.583333 -1.733333 -1.250000   \n",
       "351240120230928  -1.333333 -1.150000 -1.166666 -0.233333 -0.666666 -2.983333   \n",
       "351240120230929  -3.600000 -3.466666 -2.083333 -1.000000 -0.200000  0.300000   \n",
       "\n",
       "stops            7   8   9   10  \n",
       "TRIP_IDS                         \n",
       "346048120230801 NaN NaN NaN NaN  \n",
       "346048120230802 NaN NaN NaN NaN  \n",
       "346048120230803 NaN NaN NaN NaN  \n",
       "346050120230801 NaN NaN NaN NaN  \n",
       "346050120230802 NaN NaN NaN NaN  \n",
       "...              ..  ..  ..  ..  \n",
       "351240120230925 NaN NaN NaN NaN  \n",
       "351240120230926 NaN NaN NaN NaN  \n",
       "351240120230927 NaN NaN NaN NaN  \n",
       "351240120230928 NaN NaN NaN NaN  \n",
       "351240120230929 NaN NaN NaN NaN  \n",
       "\n",
       "[4203 rows x 10 columns]"
      ]
     },
     "execution_count": 41,
     "metadata": {},
     "output_type": "execute_result"
    }
   ],
   "source": [
    "route_3_to_downtown_pivot"
   ]
  },
  {
   "cell_type": "code",
   "execution_count": 42,
   "id": "fe819171",
   "metadata": {},
   "outputs": [
    {
     "data": {
      "text/html": [
       "<div>\n",
       "<style scoped>\n",
       "    .dataframe tbody tr th:only-of-type {\n",
       "        vertical-align: middle;\n",
       "    }\n",
       "\n",
       "    .dataframe tbody tr th {\n",
       "        vertical-align: top;\n",
       "    }\n",
       "\n",
       "    .dataframe thead th {\n",
       "        text-align: right;\n",
       "    }\n",
       "</style>\n",
       "<table border=\"1\" class=\"dataframe\">\n",
       "  <thead>\n",
       "    <tr style=\"text-align: right;\">\n",
       "      <th>stops</th>\n",
       "      <th>1</th>\n",
       "      <th>2</th>\n",
       "      <th>3</th>\n",
       "      <th>4</th>\n",
       "      <th>5</th>\n",
       "    </tr>\n",
       "    <tr>\n",
       "      <th>TRIP_IDS</th>\n",
       "      <th></th>\n",
       "      <th></th>\n",
       "      <th></th>\n",
       "      <th></th>\n",
       "      <th></th>\n",
       "    </tr>\n",
       "  </thead>\n",
       "  <tbody>\n",
       "    <tr>\n",
       "      <th>346048120230801</th>\n",
       "      <td>-1.300000</td>\n",
       "      <td>-0.083333</td>\n",
       "      <td>0.416666</td>\n",
       "      <td>1.000000</td>\n",
       "      <td>4.100000</td>\n",
       "    </tr>\n",
       "    <tr>\n",
       "      <th>346048120230802</th>\n",
       "      <td>-1.150000</td>\n",
       "      <td>-0.750000</td>\n",
       "      <td>-0.716666</td>\n",
       "      <td>0.150000</td>\n",
       "      <td>0.016666</td>\n",
       "    </tr>\n",
       "    <tr>\n",
       "      <th>346050120230801</th>\n",
       "      <td>-3.933333</td>\n",
       "      <td>-2.666666</td>\n",
       "      <td>-1.950000</td>\n",
       "      <td>-1.450000</td>\n",
       "      <td>1.533333</td>\n",
       "    </tr>\n",
       "    <tr>\n",
       "      <th>346050120230802</th>\n",
       "      <td>0.966666</td>\n",
       "      <td>-2.150000</td>\n",
       "      <td>-1.650000</td>\n",
       "      <td>-1.683333</td>\n",
       "      <td>-0.033333</td>\n",
       "    </tr>\n",
       "    <tr>\n",
       "      <th>346050120230803</th>\n",
       "      <td>-1.650000</td>\n",
       "      <td>-0.166666</td>\n",
       "      <td>-0.716666</td>\n",
       "      <td>0.516666</td>\n",
       "      <td>6.000000</td>\n",
       "    </tr>\n",
       "    <tr>\n",
       "      <th>...</th>\n",
       "      <td>...</td>\n",
       "      <td>...</td>\n",
       "      <td>...</td>\n",
       "      <td>...</td>\n",
       "      <td>...</td>\n",
       "    </tr>\n",
       "    <tr>\n",
       "      <th>351240120230925</th>\n",
       "      <td>-1.383333</td>\n",
       "      <td>-2.033333</td>\n",
       "      <td>0.616666</td>\n",
       "      <td>-1.833333</td>\n",
       "      <td>-5.600000</td>\n",
       "    </tr>\n",
       "    <tr>\n",
       "      <th>351240120230926</th>\n",
       "      <td>-5.850000</td>\n",
       "      <td>-3.483333</td>\n",
       "      <td>-2.033333</td>\n",
       "      <td>-0.666666</td>\n",
       "      <td>-0.133333</td>\n",
       "    </tr>\n",
       "    <tr>\n",
       "      <th>351240120230927</th>\n",
       "      <td>-2.183333</td>\n",
       "      <td>-0.600000</td>\n",
       "      <td>-1.283333</td>\n",
       "      <td>-0.583333</td>\n",
       "      <td>-1.733333</td>\n",
       "    </tr>\n",
       "    <tr>\n",
       "      <th>351240120230928</th>\n",
       "      <td>-1.333333</td>\n",
       "      <td>-1.150000</td>\n",
       "      <td>-1.166666</td>\n",
       "      <td>-0.233333</td>\n",
       "      <td>-0.666666</td>\n",
       "    </tr>\n",
       "    <tr>\n",
       "      <th>351240120230929</th>\n",
       "      <td>-3.600000</td>\n",
       "      <td>-3.466666</td>\n",
       "      <td>-2.083333</td>\n",
       "      <td>-1.000000</td>\n",
       "      <td>-0.200000</td>\n",
       "    </tr>\n",
       "  </tbody>\n",
       "</table>\n",
       "<p>4082 rows × 5 columns</p>\n",
       "</div>"
      ],
      "text/plain": [
       "stops                   1         2         3         4         5\n",
       "TRIP_IDS                                                         \n",
       "346048120230801 -1.300000 -0.083333  0.416666  1.000000  4.100000\n",
       "346048120230802 -1.150000 -0.750000 -0.716666  0.150000  0.016666\n",
       "346050120230801 -3.933333 -2.666666 -1.950000 -1.450000  1.533333\n",
       "346050120230802  0.966666 -2.150000 -1.650000 -1.683333 -0.033333\n",
       "346050120230803 -1.650000 -0.166666 -0.716666  0.516666  6.000000\n",
       "...                   ...       ...       ...       ...       ...\n",
       "351240120230925 -1.383333 -2.033333  0.616666 -1.833333 -5.600000\n",
       "351240120230926 -5.850000 -3.483333 -2.033333 -0.666666 -0.133333\n",
       "351240120230927 -2.183333 -0.600000 -1.283333 -0.583333 -1.733333\n",
       "351240120230928 -1.333333 -1.150000 -1.166666 -0.233333 -0.666666\n",
       "351240120230929 -3.600000 -3.466666 -2.083333 -1.000000 -0.200000\n",
       "\n",
       "[4082 rows x 5 columns]"
      ]
     },
     "execution_count": 42,
     "metadata": {},
     "output_type": "execute_result"
    }
   ],
   "source": [
    "route_3_to_downtown_pivot.iloc[:, 0:5].dropna()"
   ]
  },
  {
   "cell_type": "code",
   "execution_count": null,
   "id": "5f2331c3",
   "metadata": {},
   "outputs": [],
   "source": [
    "route_3_to_downtown_pivot"
   ]
  },
  {
   "cell_type": "code",
   "execution_count": null,
   "id": "a53321ab",
   "metadata": {},
   "outputs": [],
   "source": []
  },
  {
   "cell_type": "code",
   "execution_count": null,
   "id": "1eb65f0b",
   "metadata": {},
   "outputs": [],
   "source": []
  },
  {
   "cell_type": "code",
   "execution_count": null,
   "id": "c5d071da",
   "metadata": {},
   "outputs": [],
   "source": []
  },
  {
   "cell_type": "code",
   "execution_count": 15,
   "id": "7a859fc0",
   "metadata": {},
   "outputs": [
    {
     "name": "stdout",
     "output_type": "stream",
     "text": [
      "<class 'pandas.core.frame.DataFrame'>\n",
      "Index: 4203 entries, 346048120230801 to 351240120230929\n",
      "Data columns (total 10 columns):\n",
      " #   Column  Non-Null Count  Dtype  \n",
      "---  ------  --------------  -----  \n",
      " 0   1       4203 non-null   float64\n",
      " 1   2       4184 non-null   float64\n",
      " 2   3       4178 non-null   float64\n",
      " 3   4       4164 non-null   float64\n",
      " 4   5       4082 non-null   float64\n",
      " 5   6       1902 non-null   float64\n",
      " 6   7       3 non-null      float64\n",
      " 7   8       3 non-null      float64\n",
      " 8   9       2 non-null      float64\n",
      " 9   10      1 non-null      float64\n",
      "dtypes: float64(10)\n",
      "memory usage: 361.2+ KB\n"
     ]
    }
   ],
   "source": [
    "route_3_pivot.info()"
   ]
  },
  {
   "cell_type": "code",
   "execution_count": null,
   "id": "a15dd4f1",
   "metadata": {},
   "outputs": [],
   "source": []
  },
  {
   "cell_type": "code",
   "execution_count": null,
   "id": "65dd2b73",
   "metadata": {},
   "outputs": [],
   "source": []
  },
  {
   "cell_type": "code",
   "execution_count": null,
   "id": "785a33f9",
   "metadata": {},
   "outputs": [],
   "source": []
  },
  {
   "cell_type": "code",
   "execution_count": null,
   "id": "21cd4f8a",
   "metadata": {},
   "outputs": [],
   "source": []
  },
  {
   "cell_type": "code",
   "execution_count": null,
   "id": "1e38a268",
   "metadata": {},
   "outputs": [],
   "source": []
  },
  {
   "cell_type": "code",
   "execution_count": null,
   "id": "7826df54",
   "metadata": {},
   "outputs": [],
   "source": []
  },
  {
   "cell_type": "code",
   "execution_count": null,
   "id": "df5c79e0",
   "metadata": {},
   "outputs": [],
   "source": []
  },
  {
   "cell_type": "code",
   "execution_count": null,
   "id": "bc54cf06",
   "metadata": {},
   "outputs": [],
   "source": []
  },
  {
   "cell_type": "code",
   "execution_count": null,
   "id": "bab118ce",
   "metadata": {},
   "outputs": [],
   "source": []
  },
  {
   "cell_type": "code",
   "execution_count": null,
   "id": "8e6818d0",
   "metadata": {},
   "outputs": [],
   "source": []
  },
  {
   "cell_type": "code",
   "execution_count": 16,
   "id": "67394dd4",
   "metadata": {},
   "outputs": [],
   "source": [
    "#trips = trip_adherence.pivot_table(values = 'ADHERENCE', index = 'TRIP_IDS', columns = 'TRIP_EDGE').reset_index(drop = True)"
   ]
  },
  {
   "cell_type": "code",
   "execution_count": 17,
   "id": "975c0518",
   "metadata": {},
   "outputs": [],
   "source": [
    "#trip_adherence[(trip_adherence['TRIP_EDGE'] == 1) & (trip_adherence['ADHERENCE'] >= 0)]"
   ]
  },
  {
   "cell_type": "code",
   "execution_count": 18,
   "id": "dd1105a1",
   "metadata": {},
   "outputs": [],
   "source": [
    "#trip_adherence.info()"
   ]
  },
  {
   "cell_type": "code",
   "execution_count": 19,
   "id": "8890149f",
   "metadata": {},
   "outputs": [],
   "source": [
    "#trip_adherence = trip_adherence.copy()"
   ]
  },
  {
   "cell_type": "code",
   "execution_count": 20,
   "id": "72a68c6e",
   "metadata": {},
   "outputs": [],
   "source": [
    "#changing the dtype to string so that i can concat with the \"CALENDAR ID\" column\n",
    "#trip_adherence['TRIP_ID'] = trip_adherence['TRIP_ID'].astype(str)\n"
   ]
  },
  {
   "cell_type": "code",
   "execution_count": 21,
   "id": "6bee526d",
   "metadata": {},
   "outputs": [],
   "source": [
    "#changing the dtype to string so that i can concat with the \"ROUTE ID\" column\n",
    "#trip_adherence['CALENDAR_ID'] = trip_adherence['CALENDAR_ID'].astype(str)\n"
   ]
  },
  {
   "cell_type": "code",
   "execution_count": 22,
   "id": "90299f69",
   "metadata": {},
   "outputs": [],
   "source": [
    "#creating a column that concats the two columns\n",
    "#trip_adherence['TRIP_IDS'] = trip_adherence['TRIP_ID'] + trip_adherence['CALENDAR_ID']\n",
    "#trip_adherence"
   ]
  },
  {
   "cell_type": "code",
   "execution_count": 23,
   "id": "541cdcc0",
   "metadata": {
    "scrolled": false
   },
   "outputs": [],
   "source": [
    "#allows for each stop to be numbered in their respective route IDs\n",
    "#trip_adherence['row_num'] = 1\n",
    "#trip_adherence['stops'] = trip_adherence.groupby('TRIP_IDS')['row_num'].cumsum()"
   ]
  },
  {
   "cell_type": "code",
   "execution_count": 24,
   "id": "84d3977c",
   "metadata": {},
   "outputs": [],
   "source": [
    "#trip_adherence\n"
   ]
  },
  {
   "cell_type": "code",
   "execution_count": 25,
   "id": "d84eed5c",
   "metadata": {},
   "outputs": [],
   "source": [
    "#trip_adherence['stops'] = trip_adherence['stops'].astype(str)"
   ]
  },
  {
   "cell_type": "code",
   "execution_count": 26,
   "id": "dc83167d",
   "metadata": {},
   "outputs": [],
   "source": [
    "#creating a pivot table that will make the columns the stop #, the rows is each trip, and the values the adherence(amount of minutes late)\n",
    "#trip_adherence_pivot = trip_adherence.pivot_table(values = 'ADHERENCE', index = 'TRIP_IDS', columns = 'stops').reset_index(drop = True)"
   ]
  },
  {
   "cell_type": "code",
   "execution_count": 27,
   "id": "0f12c343",
   "metadata": {},
   "outputs": [],
   "source": [
    "#trip_adherence_pivot"
   ]
  },
  {
   "cell_type": "code",
   "execution_count": 28,
   "id": "c1c4425b",
   "metadata": {},
   "outputs": [],
   "source": [
    "#trip_adherence_pivot[trip_adherence_pivot[1] < 0]"
   ]
  },
  {
   "cell_type": "code",
   "execution_count": 29,
   "id": "61957525",
   "metadata": {},
   "outputs": [],
   "source": [
    "#trip_adherence_pivot[trip_adherence_pivot[1] >= 0]"
   ]
  },
  {
   "cell_type": "code",
   "execution_count": 30,
   "id": "350839fd",
   "metadata": {},
   "outputs": [],
   "source": [
    "#the min amount of stops\n",
    "#trip_adherence['stops'].min()"
   ]
  },
  {
   "cell_type": "code",
   "execution_count": 31,
   "id": "9cd5fb23",
   "metadata": {},
   "outputs": [],
   "source": [
    "#the max amount of stops\n",
    "#trip_adherence['stops'].max()"
   ]
  },
  {
   "cell_type": "code",
   "execution_count": 32,
   "id": "7dfbc489",
   "metadata": {},
   "outputs": [],
   "source": [
    "#Checking the total amount of stops\n",
    "#trip_adherence['stops'].info()"
   ]
  },
  {
   "cell_type": "code",
   "execution_count": 33,
   "id": "5c41e0b3",
   "metadata": {},
   "outputs": [],
   "source": [
    "#trip_adherence_pivot"
   ]
  },
  {
   "cell_type": "code",
   "execution_count": 34,
   "id": "d87108e6",
   "metadata": {},
   "outputs": [],
   "source": [
    "#trip_adherence_pivot['Stops']"
   ]
  },
  {
   "cell_type": "code",
   "execution_count": 35,
   "id": "0dc760fe",
   "metadata": {},
   "outputs": [],
   "source": [
    "#start_on_time = trip_adherence_pivot[trip_adherence_pivot[1] == 0].reset_index()"
   ]
  },
  {
   "cell_type": "code",
   "execution_count": 36,
   "id": "8e8f65a8",
   "metadata": {},
   "outputs": [],
   "source": [
    "#start_late = trip_adherence_pivot[trip_adherence_pivot[1] != 0].reset_index()"
   ]
  },
  {
   "cell_type": "code",
   "execution_count": 37,
   "id": "eb4e3741",
   "metadata": {},
   "outputs": [],
   "source": [
    "#start_late.iloc[0]"
   ]
  },
  {
   "cell_type": "code",
   "execution_count": 38,
   "id": "2c476f8b",
   "metadata": {},
   "outputs": [],
   "source": [
    "#wego.loc[\n",
    "    #(wego['ROUTE_ABBR'] == 56) & (wego['STOPS']== 20)\n",
    "    \n",
    "    \n",
    "#3]"
   ]
  }
 ],
 "metadata": {
  "kernelspec": {
   "display_name": "Python 3 (ipykernel)",
   "language": "python",
   "name": "python3"
  },
  "language_info": {
   "codemirror_mode": {
    "name": "ipython",
    "version": 3
   },
   "file_extension": ".py",
   "mimetype": "text/x-python",
   "name": "python",
   "nbconvert_exporter": "python",
   "pygments_lexer": "ipython3",
   "version": "3.10.9"
  }
 },
 "nbformat": 4,
 "nbformat_minor": 5
}
